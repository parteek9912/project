{
 "cells": [
  {
   "cell_type": "code",
   "execution_count": 1,
   "id": "d971cabd",
   "metadata": {},
   "outputs": [],
   "source": [
    "import pandas as pd\n",
    "import numpy as np\n",
    "import  matplotlib.pyplot as plt\n",
    "import seaborn as sns\n",
    "import sklearn\n",
    "\n",
    "%matplotlib inline\n",
    "import warnings\n",
    "warnings.filterwarnings(\"ignore\")\n",
    "\n",
    "pd. set_option('display.max_columns', 30) # or 1000.\n",
    "pd. set_option('display.max_rows', 30)"
   ]
  },
  {
   "cell_type": "code",
   "execution_count": 2,
   "id": "6869dc62",
   "metadata": {},
   "outputs": [],
   "source": [
    "df=pd.read_csv('C:\\\\Users\\\\GENIUS\\\\OneDrive\\\\Desktop\\\\H2HBABBA3100.csv')"
   ]
  },
  {
   "cell_type": "code",
   "execution_count": 3,
   "id": "b665a2b2",
   "metadata": {},
   "outputs": [
    {
     "name": "stdout",
     "output_type": "stream",
     "text": [
      "<class 'pandas.core.frame.DataFrame'>\n",
      "RangeIndex: 50000 entries, 0 to 49999\n",
      "Data columns (total 19 columns):\n",
      " #   Column                  Non-Null Count  Dtype  \n",
      "---  ------                  --------------  -----  \n",
      " 0   business_code           50000 non-null  object \n",
      " 1   cust_number             50000 non-null  object \n",
      " 2   name_customer           50000 non-null  object \n",
      " 3   clear_date              40000 non-null  object \n",
      " 4   buisness_year           50000 non-null  float64\n",
      " 5   doc_id                  50000 non-null  float64\n",
      " 6   posting_date            50000 non-null  object \n",
      " 7   document_create_date    50000 non-null  int64  \n",
      " 8   document_create_date.1  50000 non-null  int64  \n",
      " 9   due_in_date             50000 non-null  float64\n",
      " 10  invoice_currency        50000 non-null  object \n",
      " 11  document type           50000 non-null  object \n",
      " 12  posting_id              50000 non-null  float64\n",
      " 13  area_business           0 non-null      float64\n",
      " 14  total_open_amount       50000 non-null  float64\n",
      " 15  baseline_create_date    50000 non-null  float64\n",
      " 16  cust_payment_terms      50000 non-null  object \n",
      " 17  invoice_id              49994 non-null  float64\n",
      " 18  isOpen                  50000 non-null  int64  \n",
      "dtypes: float64(8), int64(3), object(8)\n",
      "memory usage: 7.2+ MB\n"
     ]
    }
   ],
   "source": [
    "df.info()"
   ]
  },
  {
   "cell_type": "code",
   "execution_count": 4,
   "id": "d220baf6",
   "metadata": {},
   "outputs": [],
   "source": [
    "#splitting the data set to test data where we have null in clear_date and as it donot have target column.\n",
    "Test_data=df[df['isOpen']==1].copy()"
   ]
  },
  {
   "cell_type": "code",
   "execution_count": 5,
   "id": "d96cce54",
   "metadata": {},
   "outputs": [],
   "source": [
    "Train_data=df[df['isOpen']==0].copy()  #spliting our remaining data in new data frame Train_data for further cleaning and processing"
   ]
  },
  {
   "cell_type": "code",
   "execution_count": 6,
   "id": "d1afd3b0",
   "metadata": {},
   "outputs": [
    {
     "data": {
      "text/plain": [
       "((10000, 19), (40000, 19))"
      ]
     },
     "execution_count": 6,
     "metadata": {},
     "output_type": "execute_result"
    }
   ],
   "source": [
    "Test_data.shape,Train_data.shape"
   ]
  },
  {
   "cell_type": "markdown",
   "id": "d8404249",
   "metadata": {},
   "source": [
    " Basic Preprocessing"
   ]
  },
  {
   "cell_type": "code",
   "execution_count": 7,
   "id": "bc9a16fa",
   "metadata": {},
   "outputs": [
    {
     "data": {
      "text/plain": [
       "business_code                 0\n",
       "cust_number                   0\n",
       "name_customer                 0\n",
       "clear_date                    0\n",
       "buisness_year                 0\n",
       "doc_id                        0\n",
       "posting_date                  0\n",
       "document_create_date          0\n",
       "document_create_date.1        0\n",
       "due_in_date                   0\n",
       "invoice_currency              0\n",
       "document type                 0\n",
       "posting_id                    0\n",
       "area_business             40000\n",
       "total_open_amount             0\n",
       "baseline_create_date          0\n",
       "cust_payment_terms            0\n",
       "invoice_id                    6\n",
       "isOpen                        0\n",
       "dtype: int64"
      ]
     },
     "execution_count": 7,
     "metadata": {},
     "output_type": "execute_result"
    }
   ],
   "source": [
    "#Analysis on col having null values.\n",
    "Train_data.isna().sum()"
   ]
  },
  {
   "cell_type": "code",
   "execution_count": 8,
   "id": "98123598",
   "metadata": {},
   "outputs": [],
   "source": [
    "## As we got the series area_business null for the entire column.\n",
    "#drop it as it will not help our model in any way to have more accuracy.\n",
    "Train_data.drop('area_business', axis=1, inplace=True) \n"
   ]
  },
  {
   "cell_type": "code",
   "execution_count": 9,
   "id": "d02dbda1",
   "metadata": {},
   "outputs": [
    {
     "data": {
      "text/html": [
       "<div>\n",
       "<style scoped>\n",
       "    .dataframe tbody tr th:only-of-type {\n",
       "        vertical-align: middle;\n",
       "    }\n",
       "\n",
       "    .dataframe tbody tr th {\n",
       "        vertical-align: top;\n",
       "    }\n",
       "\n",
       "    .dataframe thead th {\n",
       "        text-align: right;\n",
       "    }\n",
       "</style>\n",
       "<table border=\"1\" class=\"dataframe\">\n",
       "  <thead>\n",
       "    <tr style=\"text-align: right;\">\n",
       "      <th></th>\n",
       "      <th>business_code</th>\n",
       "      <th>cust_number</th>\n",
       "      <th>name_customer</th>\n",
       "      <th>clear_date</th>\n",
       "      <th>buisness_year</th>\n",
       "      <th>doc_id</th>\n",
       "      <th>posting_date</th>\n",
       "      <th>document_create_date</th>\n",
       "      <th>document_create_date.1</th>\n",
       "      <th>due_in_date</th>\n",
       "      <th>invoice_currency</th>\n",
       "      <th>document type</th>\n",
       "      <th>posting_id</th>\n",
       "      <th>total_open_amount</th>\n",
       "      <th>baseline_create_date</th>\n",
       "      <th>cust_payment_terms</th>\n",
       "      <th>invoice_id</th>\n",
       "      <th>isOpen</th>\n",
       "    </tr>\n",
       "  </thead>\n",
       "  <tbody>\n",
       "    <tr>\n",
       "      <th>1528</th>\n",
       "      <td>CA02</td>\n",
       "      <td>0140106054</td>\n",
       "      <td>TREE  corporation</td>\n",
       "      <td>2019-05-06 00:00:00</td>\n",
       "      <td>2019.0</td>\n",
       "      <td>9.500000e+09</td>\n",
       "      <td>2019-03-29</td>\n",
       "      <td>20190329</td>\n",
       "      <td>20190207</td>\n",
       "      <td>20190217.0</td>\n",
       "      <td>CAD</td>\n",
       "      <td>X2</td>\n",
       "      <td>1.0</td>\n",
       "      <td>12964.32</td>\n",
       "      <td>20190207.0</td>\n",
       "      <td>CA10</td>\n",
       "      <td>NaN</td>\n",
       "      <td>0</td>\n",
       "    </tr>\n",
       "    <tr>\n",
       "      <th>13390</th>\n",
       "      <td>CA02</td>\n",
       "      <td>0100054351</td>\n",
       "      <td>UNF corp</td>\n",
       "      <td>2019-05-02 00:00:00</td>\n",
       "      <td>2019.0</td>\n",
       "      <td>9.500000e+09</td>\n",
       "      <td>2019-03-29</td>\n",
       "      <td>20190329</td>\n",
       "      <td>20190314</td>\n",
       "      <td>20190324.0</td>\n",
       "      <td>CAD</td>\n",
       "      <td>X2</td>\n",
       "      <td>1.0</td>\n",
       "      <td>5964.00</td>\n",
       "      <td>20190314.0</td>\n",
       "      <td>CA10</td>\n",
       "      <td>NaN</td>\n",
       "      <td>0</td>\n",
       "    </tr>\n",
       "    <tr>\n",
       "      <th>28808</th>\n",
       "      <td>CA02</td>\n",
       "      <td>0140104429</td>\n",
       "      <td>COSTCO</td>\n",
       "      <td>2019-05-14 00:00:00</td>\n",
       "      <td>2019.0</td>\n",
       "      <td>9.500000e+09</td>\n",
       "      <td>2019-03-29</td>\n",
       "      <td>20190329</td>\n",
       "      <td>20190311</td>\n",
       "      <td>20190321.0</td>\n",
       "      <td>CAD</td>\n",
       "      <td>X2</td>\n",
       "      <td>1.0</td>\n",
       "      <td>5353.20</td>\n",
       "      <td>20190311.0</td>\n",
       "      <td>CA10</td>\n",
       "      <td>NaN</td>\n",
       "      <td>0</td>\n",
       "    </tr>\n",
       "    <tr>\n",
       "      <th>37375</th>\n",
       "      <td>CA02</td>\n",
       "      <td>0140106054</td>\n",
       "      <td>TREE  corporation</td>\n",
       "      <td>2019-05-22 00:00:00</td>\n",
       "      <td>2019.0</td>\n",
       "      <td>9.500000e+09</td>\n",
       "      <td>2019-03-29</td>\n",
       "      <td>20190329</td>\n",
       "      <td>20190314</td>\n",
       "      <td>20190324.0</td>\n",
       "      <td>CAD</td>\n",
       "      <td>X2</td>\n",
       "      <td>1.0</td>\n",
       "      <td>216.80</td>\n",
       "      <td>20190314.0</td>\n",
       "      <td>CA10</td>\n",
       "      <td>NaN</td>\n",
       "      <td>0</td>\n",
       "    </tr>\n",
       "    <tr>\n",
       "      <th>43158</th>\n",
       "      <td>CA02</td>\n",
       "      <td>0140106054</td>\n",
       "      <td>TREE  corporation</td>\n",
       "      <td>2019-06-17 00:00:00</td>\n",
       "      <td>2019.0</td>\n",
       "      <td>9.500000e+09</td>\n",
       "      <td>2019-03-29</td>\n",
       "      <td>20190329</td>\n",
       "      <td>20190322</td>\n",
       "      <td>20190401.0</td>\n",
       "      <td>CAD</td>\n",
       "      <td>X2</td>\n",
       "      <td>1.0</td>\n",
       "      <td>25215.84</td>\n",
       "      <td>20190322.0</td>\n",
       "      <td>CA10</td>\n",
       "      <td>NaN</td>\n",
       "      <td>0</td>\n",
       "    </tr>\n",
       "    <tr>\n",
       "      <th>44419</th>\n",
       "      <td>CA02</td>\n",
       "      <td>0140104409</td>\n",
       "      <td>LOB co</td>\n",
       "      <td>2019-05-08 00:00:00</td>\n",
       "      <td>2019.0</td>\n",
       "      <td>9.500000e+09</td>\n",
       "      <td>2019-03-29</td>\n",
       "      <td>20190329</td>\n",
       "      <td>20190220</td>\n",
       "      <td>20190302.0</td>\n",
       "      <td>CAD</td>\n",
       "      <td>X2</td>\n",
       "      <td>1.0</td>\n",
       "      <td>14172.84</td>\n",
       "      <td>20190220.0</td>\n",
       "      <td>CA10</td>\n",
       "      <td>NaN</td>\n",
       "      <td>0</td>\n",
       "    </tr>\n",
       "  </tbody>\n",
       "</table>\n",
       "</div>"
      ],
      "text/plain": [
       "      business_code cust_number      name_customer           clear_date  \\\n",
       "1528           CA02  0140106054  TREE  corporation  2019-05-06 00:00:00   \n",
       "13390          CA02  0100054351           UNF corp  2019-05-02 00:00:00   \n",
       "28808          CA02  0140104429            COSTCO   2019-05-14 00:00:00   \n",
       "37375          CA02  0140106054  TREE  corporation  2019-05-22 00:00:00   \n",
       "43158          CA02  0140106054  TREE  corporation  2019-06-17 00:00:00   \n",
       "44419          CA02  0140104409             LOB co  2019-05-08 00:00:00   \n",
       "\n",
       "       buisness_year        doc_id posting_date  document_create_date  \\\n",
       "1528          2019.0  9.500000e+09   2019-03-29              20190329   \n",
       "13390         2019.0  9.500000e+09   2019-03-29              20190329   \n",
       "28808         2019.0  9.500000e+09   2019-03-29              20190329   \n",
       "37375         2019.0  9.500000e+09   2019-03-29              20190329   \n",
       "43158         2019.0  9.500000e+09   2019-03-29              20190329   \n",
       "44419         2019.0  9.500000e+09   2019-03-29              20190329   \n",
       "\n",
       "       document_create_date.1  due_in_date invoice_currency document type  \\\n",
       "1528                 20190207   20190217.0              CAD            X2   \n",
       "13390                20190314   20190324.0              CAD            X2   \n",
       "28808                20190311   20190321.0              CAD            X2   \n",
       "37375                20190314   20190324.0              CAD            X2   \n",
       "43158                20190322   20190401.0              CAD            X2   \n",
       "44419                20190220   20190302.0              CAD            X2   \n",
       "\n",
       "       posting_id  total_open_amount  baseline_create_date cust_payment_terms  \\\n",
       "1528          1.0           12964.32            20190207.0               CA10   \n",
       "13390         1.0            5964.00            20190314.0               CA10   \n",
       "28808         1.0            5353.20            20190311.0               CA10   \n",
       "37375         1.0             216.80            20190314.0               CA10   \n",
       "43158         1.0           25215.84            20190322.0               CA10   \n",
       "44419         1.0           14172.84            20190220.0               CA10   \n",
       "\n",
       "       invoice_id  isOpen  \n",
       "1528          NaN       0  \n",
       "13390         NaN       0  \n",
       "28808         NaN       0  \n",
       "37375         NaN       0  \n",
       "43158         NaN       0  \n",
       "44419         NaN       0  "
      ]
     },
     "execution_count": 9,
     "metadata": {},
     "output_type": "execute_result"
    }
   ],
   "source": [
    "#analysis on invoice_id as it have 6 null values.\n",
    "Train_data[Train_data.invoice_id.isnull()]"
   ]
  },
  {
   "cell_type": "code",
   "execution_count": 10,
   "id": "b530ca14",
   "metadata": {},
   "outputs": [],
   "source": [
    "#as our use case is finding clear date for an invoice genrated and as we know invoice_id is unique for every observation .\n",
    "#dropping it wont infer our use case and as id_col cant be used as feature .\n",
    "Train_data.drop('invoice_id', axis=1, inplace=True)\n"
   ]
  },
  {
   "cell_type": "markdown",
   "id": "cd68d8ea",
   "metadata": {},
   "source": [
    "Constant and duplicate removal"
   ]
  },
  {
   "cell_type": "code",
   "execution_count": 11,
   "id": "984a1ab3",
   "metadata": {},
   "outputs": [
    {
     "name": "stdout",
     "output_type": "stream",
     "text": [
      "['posting_id', 'isOpen']\n"
     ]
    },
    {
     "data": {
      "text/plain": [
       "Index(['business_code', 'cust_number', 'name_customer', 'clear_date',\n",
       "       'buisness_year', 'doc_id', 'posting_date', 'document_create_date',\n",
       "       'document_create_date.1', 'due_in_date', 'invoice_currency',\n",
       "       'document type', 'total_open_amount', 'baseline_create_date',\n",
       "       'cust_payment_terms'],\n",
       "      dtype='object')"
      ]
     },
     "execution_count": 11,
     "metadata": {},
     "output_type": "execute_result"
    }
   ],
   "source": [
    "#Removing Cols which have the same value in the entire dataset\n",
    "unique_cols =  [x for x in Train_data.columns if Train_data[x].nunique()==1] \n",
    "print(unique_cols)\n",
    "Train_data.drop(unique_cols,axis=1,inplace=True)\n",
    "Train_data.columns"
   ]
  },
  {
   "cell_type": "code",
   "execution_count": 12,
   "id": "923c46ff",
   "metadata": {},
   "outputs": [
    {
     "name": "stdout",
     "output_type": "stream",
     "text": [
      "U001    36134\n",
      "CA02     3158\n",
      "U013      575\n",
      "U002      116\n",
      "U005       14\n",
      "U007        3\n",
      "Name: business_code, dtype: int64\n",
      "************\n",
      "2019.0    34799\n",
      "2020.0     5201\n",
      "Name: buisness_year, dtype: int64\n",
      "************\n",
      "USD    36842\n",
      "CAD     3158\n",
      "Name: invoice_currency, dtype: int64\n",
      "************\n",
      "RV    39994\n",
      "X2        6\n",
      "Name: document type, dtype: int64\n",
      "************\n"
     ]
    }
   ],
   "source": [
    "for col in Train_data.columns:\n",
    "    if Train_data[col].nunique()<= 12:\n",
    "        print(Train_data[col].value_counts())\n",
    "        print('************')"
   ]
  },
  {
   "cell_type": "code",
   "execution_count": 13,
   "id": "ebe97ecf",
   "metadata": {},
   "outputs": [],
   "source": [
    "#as we can see in business code we have U005,U007 least occurence so group them so that model can get the info. form them\n",
    "Train_data['business_code'] = np.where(Train_data['business_code'].isin([\"U005\",\"U007\"]),\"other_business\",Train_data['business_code'])"
   ]
  },
  {
   "cell_type": "markdown",
   "id": "733283f2",
   "metadata": {},
   "source": [
    "Removing duplicated rows"
   ]
  },
  {
   "cell_type": "code",
   "execution_count": 14,
   "id": "05dfbd00",
   "metadata": {},
   "outputs": [
    {
     "data": {
      "text/plain": [
       "1152"
      ]
     },
     "execution_count": 14,
     "metadata": {},
     "output_type": "execute_result"
    }
   ],
   "source": [
    "#now we will check for the duplicate records  sum() will help to find number of duplicates \n",
    "df.duplicated().sum()"
   ]
  },
  {
   "cell_type": "code",
   "execution_count": 15,
   "id": "f6b67e47",
   "metadata": {},
   "outputs": [
    {
     "data": {
      "text/html": [
       "<div>\n",
       "<style scoped>\n",
       "    .dataframe tbody tr th:only-of-type {\n",
       "        vertical-align: middle;\n",
       "    }\n",
       "\n",
       "    .dataframe tbody tr th {\n",
       "        vertical-align: top;\n",
       "    }\n",
       "\n",
       "    .dataframe thead th {\n",
       "        text-align: right;\n",
       "    }\n",
       "</style>\n",
       "<table border=\"1\" class=\"dataframe\">\n",
       "  <thead>\n",
       "    <tr style=\"text-align: right;\">\n",
       "      <th></th>\n",
       "      <th>business_code</th>\n",
       "      <th>cust_number</th>\n",
       "      <th>name_customer</th>\n",
       "      <th>clear_date</th>\n",
       "      <th>buisness_year</th>\n",
       "      <th>doc_id</th>\n",
       "      <th>posting_date</th>\n",
       "      <th>document_create_date</th>\n",
       "      <th>document_create_date.1</th>\n",
       "      <th>due_in_date</th>\n",
       "      <th>invoice_currency</th>\n",
       "      <th>document type</th>\n",
       "      <th>total_open_amount</th>\n",
       "      <th>baseline_create_date</th>\n",
       "      <th>cust_payment_terms</th>\n",
       "    </tr>\n",
       "  </thead>\n",
       "  <tbody>\n",
       "    <tr>\n",
       "      <th>0</th>\n",
       "      <td>U002</td>\n",
       "      <td>0200501669</td>\n",
       "      <td>WAL MA associates</td>\n",
       "      <td>2019-02-12 00:00:00</td>\n",
       "      <td>2019.0</td>\n",
       "      <td>1.990564e+09</td>\n",
       "      <td>2019-01-01</td>\n",
       "      <td>20181229</td>\n",
       "      <td>20190101</td>\n",
       "      <td>20190205.0</td>\n",
       "      <td>USD</td>\n",
       "      <td>RV</td>\n",
       "      <td>14454.87</td>\n",
       "      <td>20190101.0</td>\n",
       "      <td>NAG2</td>\n",
       "    </tr>\n",
       "    <tr>\n",
       "      <th>1</th>\n",
       "      <td>U001</td>\n",
       "      <td>0200803720</td>\n",
       "      <td>DEC foundation</td>\n",
       "      <td>2019-09-12 00:00:00</td>\n",
       "      <td>2019.0</td>\n",
       "      <td>1.929845e+09</td>\n",
       "      <td>2019-09-07</td>\n",
       "      <td>20190907</td>\n",
       "      <td>20190907</td>\n",
       "      <td>20190911.0</td>\n",
       "      <td>USD</td>\n",
       "      <td>RV</td>\n",
       "      <td>8168.94</td>\n",
       "      <td>20190901.0</td>\n",
       "      <td>NAM2</td>\n",
       "    </tr>\n",
       "    <tr>\n",
       "      <th>2</th>\n",
       "      <td>U001</td>\n",
       "      <td>0200331749</td>\n",
       "      <td>SYSC in</td>\n",
       "      <td>2019-04-15 00:00:00</td>\n",
       "      <td>2019.0</td>\n",
       "      <td>1.929044e+09</td>\n",
       "      <td>2019-03-29</td>\n",
       "      <td>20190328</td>\n",
       "      <td>20190329</td>\n",
       "      <td>20190413.0</td>\n",
       "      <td>USD</td>\n",
       "      <td>RV</td>\n",
       "      <td>5969.69</td>\n",
       "      <td>20190329.0</td>\n",
       "      <td>NAA8</td>\n",
       "    </tr>\n",
       "    <tr>\n",
       "      <th>3</th>\n",
       "      <td>U001</td>\n",
       "      <td>0200762301</td>\n",
       "      <td>C&amp;S WH in</td>\n",
       "      <td>2019-05-09 00:00:00</td>\n",
       "      <td>2019.0</td>\n",
       "      <td>1.929196e+09</td>\n",
       "      <td>2019-04-25</td>\n",
       "      <td>20190423</td>\n",
       "      <td>20190425</td>\n",
       "      <td>20190510.0</td>\n",
       "      <td>USD</td>\n",
       "      <td>RV</td>\n",
       "      <td>68682.87</td>\n",
       "      <td>20190425.0</td>\n",
       "      <td>NAC6</td>\n",
       "    </tr>\n",
       "    <tr>\n",
       "      <th>4</th>\n",
       "      <td>U001</td>\n",
       "      <td>0200712187</td>\n",
       "      <td>SPAR systems</td>\n",
       "      <td>2019-07-23 00:00:00</td>\n",
       "      <td>2019.0</td>\n",
       "      <td>1.929594e+09</td>\n",
       "      <td>2019-07-08</td>\n",
       "      <td>20190709</td>\n",
       "      <td>20190708</td>\n",
       "      <td>20190723.0</td>\n",
       "      <td>USD</td>\n",
       "      <td>RV</td>\n",
       "      <td>61529.23</td>\n",
       "      <td>20190708.0</td>\n",
       "      <td>NAA8</td>\n",
       "    </tr>\n",
       "    <tr>\n",
       "      <th>...</th>\n",
       "      <td>...</td>\n",
       "      <td>...</td>\n",
       "      <td>...</td>\n",
       "      <td>...</td>\n",
       "      <td>...</td>\n",
       "      <td>...</td>\n",
       "      <td>...</td>\n",
       "      <td>...</td>\n",
       "      <td>...</td>\n",
       "      <td>...</td>\n",
       "      <td>...</td>\n",
       "      <td>...</td>\n",
       "      <td>...</td>\n",
       "      <td>...</td>\n",
       "      <td>...</td>\n",
       "    </tr>\n",
       "    <tr>\n",
       "      <th>49995</th>\n",
       "      <td>U001</td>\n",
       "      <td>0200743123</td>\n",
       "      <td>KROGER systems</td>\n",
       "      <td>2019-08-19 00:00:00</td>\n",
       "      <td>2019.0</td>\n",
       "      <td>1.929690e+09</td>\n",
       "      <td>2019-08-02</td>\n",
       "      <td>20190801</td>\n",
       "      <td>20190802</td>\n",
       "      <td>20190817.0</td>\n",
       "      <td>USD</td>\n",
       "      <td>RV</td>\n",
       "      <td>123839.85</td>\n",
       "      <td>20190802.0</td>\n",
       "      <td>NAA8</td>\n",
       "    </tr>\n",
       "    <tr>\n",
       "      <th>49996</th>\n",
       "      <td>U001</td>\n",
       "      <td>0200772670</td>\n",
       "      <td>ASSOCIAT corporation</td>\n",
       "      <td>2019-09-03 00:00:00</td>\n",
       "      <td>2019.0</td>\n",
       "      <td>1.929748e+09</td>\n",
       "      <td>2019-08-16</td>\n",
       "      <td>20190814</td>\n",
       "      <td>20190816</td>\n",
       "      <td>20190831.0</td>\n",
       "      <td>USD</td>\n",
       "      <td>RV</td>\n",
       "      <td>93891.15</td>\n",
       "      <td>20190816.0</td>\n",
       "      <td>NAU5</td>\n",
       "    </tr>\n",
       "    <tr>\n",
       "      <th>49997</th>\n",
       "      <td>U001</td>\n",
       "      <td>0200769623</td>\n",
       "      <td>WAL-MAR co</td>\n",
       "      <td>2019-03-26 00:00:00</td>\n",
       "      <td>2019.0</td>\n",
       "      <td>1.928955e+09</td>\n",
       "      <td>2019-03-14</td>\n",
       "      <td>20190313</td>\n",
       "      <td>20190314</td>\n",
       "      <td>20190329.0</td>\n",
       "      <td>USD</td>\n",
       "      <td>RV</td>\n",
       "      <td>51387.27</td>\n",
       "      <td>20190314.0</td>\n",
       "      <td>NAH4</td>\n",
       "    </tr>\n",
       "    <tr>\n",
       "      <th>49998</th>\n",
       "      <td>U001</td>\n",
       "      <td>0200466603</td>\n",
       "      <td>SMITH'S associates</td>\n",
       "      <td>2019-12-16 00:00:00</td>\n",
       "      <td>2019.0</td>\n",
       "      <td>1.930207e+09</td>\n",
       "      <td>2019-12-01</td>\n",
       "      <td>20191130</td>\n",
       "      <td>20191201</td>\n",
       "      <td>20191216.0</td>\n",
       "      <td>USD</td>\n",
       "      <td>RV</td>\n",
       "      <td>58752.02</td>\n",
       "      <td>20191201.0</td>\n",
       "      <td>NAA8</td>\n",
       "    </tr>\n",
       "    <tr>\n",
       "      <th>49999</th>\n",
       "      <td>U001</td>\n",
       "      <td>0100001222</td>\n",
       "      <td>REST systems</td>\n",
       "      <td>2020-03-10 00:00:00</td>\n",
       "      <td>2020.0</td>\n",
       "      <td>1.930543e+09</td>\n",
       "      <td>2020-02-19</td>\n",
       "      <td>20200219</td>\n",
       "      <td>20200219</td>\n",
       "      <td>20200305.0</td>\n",
       "      <td>USD</td>\n",
       "      <td>RV</td>\n",
       "      <td>531.59</td>\n",
       "      <td>20200219.0</td>\n",
       "      <td>NAA8</td>\n",
       "    </tr>\n",
       "  </tbody>\n",
       "</table>\n",
       "<p>39158 rows × 15 columns</p>\n",
       "</div>"
      ],
      "text/plain": [
       "      business_code cust_number         name_customer           clear_date  \\\n",
       "0              U002  0200501669     WAL MA associates  2019-02-12 00:00:00   \n",
       "1              U001  0200803720        DEC foundation  2019-09-12 00:00:00   \n",
       "2              U001  0200331749               SYSC in  2019-04-15 00:00:00   \n",
       "3              U001  0200762301             C&S WH in  2019-05-09 00:00:00   \n",
       "4              U001  0200712187          SPAR systems  2019-07-23 00:00:00   \n",
       "...             ...         ...                   ...                  ...   \n",
       "49995          U001  0200743123        KROGER systems  2019-08-19 00:00:00   \n",
       "49996          U001  0200772670  ASSOCIAT corporation  2019-09-03 00:00:00   \n",
       "49997          U001  0200769623            WAL-MAR co  2019-03-26 00:00:00   \n",
       "49998          U001  0200466603    SMITH'S associates  2019-12-16 00:00:00   \n",
       "49999          U001  0100001222          REST systems  2020-03-10 00:00:00   \n",
       "\n",
       "       buisness_year        doc_id posting_date  document_create_date  \\\n",
       "0             2019.0  1.990564e+09   2019-01-01              20181229   \n",
       "1             2019.0  1.929845e+09   2019-09-07              20190907   \n",
       "2             2019.0  1.929044e+09   2019-03-29              20190328   \n",
       "3             2019.0  1.929196e+09   2019-04-25              20190423   \n",
       "4             2019.0  1.929594e+09   2019-07-08              20190709   \n",
       "...              ...           ...          ...                   ...   \n",
       "49995         2019.0  1.929690e+09   2019-08-02              20190801   \n",
       "49996         2019.0  1.929748e+09   2019-08-16              20190814   \n",
       "49997         2019.0  1.928955e+09   2019-03-14              20190313   \n",
       "49998         2019.0  1.930207e+09   2019-12-01              20191130   \n",
       "49999         2020.0  1.930543e+09   2020-02-19              20200219   \n",
       "\n",
       "       document_create_date.1  due_in_date invoice_currency document type  \\\n",
       "0                    20190101   20190205.0              USD            RV   \n",
       "1                    20190907   20190911.0              USD            RV   \n",
       "2                    20190329   20190413.0              USD            RV   \n",
       "3                    20190425   20190510.0              USD            RV   \n",
       "4                    20190708   20190723.0              USD            RV   \n",
       "...                       ...          ...              ...           ...   \n",
       "49995                20190802   20190817.0              USD            RV   \n",
       "49996                20190816   20190831.0              USD            RV   \n",
       "49997                20190314   20190329.0              USD            RV   \n",
       "49998                20191201   20191216.0              USD            RV   \n",
       "49999                20200219   20200305.0              USD            RV   \n",
       "\n",
       "       total_open_amount  baseline_create_date cust_payment_terms  \n",
       "0               14454.87            20190101.0               NAG2  \n",
       "1                8168.94            20190901.0               NAM2  \n",
       "2                5969.69            20190329.0               NAA8  \n",
       "3               68682.87            20190425.0               NAC6  \n",
       "4               61529.23            20190708.0               NAA8  \n",
       "...                  ...                   ...                ...  \n",
       "49995          123839.85            20190802.0               NAA8  \n",
       "49996           93891.15            20190816.0               NAU5  \n",
       "49997           51387.27            20190314.0               NAH4  \n",
       "49998           58752.02            20191201.0               NAA8  \n",
       "49999             531.59            20200219.0               NAA8  \n",
       "\n",
       "[39158 rows x 15 columns]"
      ]
     },
     "execution_count": 15,
     "metadata": {},
     "output_type": "execute_result"
    }
   ],
   "source": [
    "#we will drop the duplicate record and keep='first' will keep the first occurence of the record.\n",
    "Train_data.drop_duplicates(keep='first')"
   ]
  },
  {
   "cell_type": "code",
   "execution_count": 16,
   "id": "938ef200",
   "metadata": {},
   "outputs": [
    {
     "data": {
      "text/plain": [
       "39998"
      ]
     },
     "execution_count": 16,
     "metadata": {},
     "output_type": "execute_result"
    }
   ],
   "source": [
    "Train_data['document type'].duplicated().sum() #we see a duplicate pattern in document type column\n"
   ]
  },
  {
   "cell_type": "code",
   "execution_count": 17,
   "id": "5a3b4798",
   "metadata": {},
   "outputs": [],
   "source": [
    "#99 % of data have same value we can drop it as it wont harm our use case .\n",
    "#also we could have used quasi constant as majority of element are same\n",
    "Train_data.drop('document type',axis=1,inplace=True)\n"
   ]
  },
  {
   "cell_type": "code",
   "execution_count": 18,
   "id": "f279374b",
   "metadata": {},
   "outputs": [
    {
     "data": {
      "text/plain": [
       "business_code              object\n",
       "cust_number                object\n",
       "name_customer              object\n",
       "clear_date                 object\n",
       "buisness_year             float64\n",
       "doc_id                    float64\n",
       "posting_date               object\n",
       "document_create_date        int64\n",
       "document_create_date.1      int64\n",
       "due_in_date               float64\n",
       "invoice_currency           object\n",
       "total_open_amount         float64\n",
       "baseline_create_date      float64\n",
       "cust_payment_terms         object\n",
       "dtype: object"
      ]
     },
     "execution_count": 18,
     "metadata": {},
     "output_type": "execute_result"
    }
   ],
   "source": [
    "Train_data.dtypes"
   ]
  },
  {
   "cell_type": "code",
   "execution_count": 19,
   "id": "bff4069d",
   "metadata": {},
   "outputs": [
    {
     "data": {
      "text/plain": [
       "0.9864730709701789"
      ]
     },
     "execution_count": 19,
     "metadata": {},
     "output_type": "execute_result"
    }
   ],
   "source": [
    "#correlation is more than 98 percent we can use one of the dates in feature engineering \n",
    "Train_data['document_create_date'].corr(Train_data['document_create_date.1'])"
   ]
  },
  {
   "cell_type": "markdown",
   "id": "b523fb59",
   "metadata": {},
   "source": [
    "# date time conversions\n"
   ]
  },
  {
   "cell_type": "code",
   "execution_count": 20,
   "id": "52147820",
   "metadata": {},
   "outputs": [],
   "source": [
    "#to get the insight of the date column we need to change its dtype to datetime format \n",
    "#perform operations to extract major informations.\n",
    "Train_data['due_in_date']= pd.to_datetime(Train_data['due_in_date'],format='%Y%m%d') \n",
    "Train_data['baseline_create_date']= pd.to_datetime(Train_data['baseline_create_date'],format='%Y%m%d')\n",
    "Train_data['document_create_date']= pd.to_datetime(Train_data['document_create_date'],format='%Y%m%d') \n",
    "Train_data['document_create_date.1']= pd.to_datetime(Train_data['document_create_date.1'],format='%Y%m%d')\n",
    "Train_data['clear_date']= pd.to_datetime(Train_data['clear_date'],format='%Y-%m-%d')  #from object to datetime format changes with '-' in it\n",
    "Train_data['posting_date']= pd.to_datetime(Train_data['posting_date'],format='%Y-%m-%d')"
   ]
  },
  {
   "cell_type": "code",
   "execution_count": 21,
   "id": "eeb28176",
   "metadata": {
    "scrolled": true
   },
   "outputs": [
    {
     "data": {
      "text/html": [
       "<div>\n",
       "<style scoped>\n",
       "    .dataframe tbody tr th:only-of-type {\n",
       "        vertical-align: middle;\n",
       "    }\n",
       "\n",
       "    .dataframe tbody tr th {\n",
       "        vertical-align: top;\n",
       "    }\n",
       "\n",
       "    .dataframe thead th {\n",
       "        text-align: right;\n",
       "    }\n",
       "</style>\n",
       "<table border=\"1\" class=\"dataframe\">\n",
       "  <thead>\n",
       "    <tr style=\"text-align: right;\">\n",
       "      <th></th>\n",
       "      <th>business_code</th>\n",
       "      <th>cust_number</th>\n",
       "      <th>name_customer</th>\n",
       "      <th>clear_date</th>\n",
       "      <th>buisness_year</th>\n",
       "      <th>doc_id</th>\n",
       "      <th>posting_date</th>\n",
       "      <th>document_create_date</th>\n",
       "      <th>document_create_date.1</th>\n",
       "      <th>due_in_date</th>\n",
       "      <th>invoice_currency</th>\n",
       "      <th>total_open_amount</th>\n",
       "      <th>baseline_create_date</th>\n",
       "      <th>cust_payment_terms</th>\n",
       "    </tr>\n",
       "  </thead>\n",
       "  <tbody>\n",
       "    <tr>\n",
       "      <th>15840</th>\n",
       "      <td>U001</td>\n",
       "      <td>0200769623</td>\n",
       "      <td>WAL-MAR foundation</td>\n",
       "      <td>2019-01-09</td>\n",
       "      <td>2019.0</td>\n",
       "      <td>1.928517e+09</td>\n",
       "      <td>2018-12-30</td>\n",
       "      <td>2018-12-31</td>\n",
       "      <td>2018-12-30</td>\n",
       "      <td>2019-01-14</td>\n",
       "      <td>USD</td>\n",
       "      <td>69443.10</td>\n",
       "      <td>2018-12-30</td>\n",
       "      <td>NAH4</td>\n",
       "    </tr>\n",
       "    <tr>\n",
       "      <th>44149</th>\n",
       "      <td>U001</td>\n",
       "      <td>0200744019</td>\n",
       "      <td>TARG in</td>\n",
       "      <td>2019-01-18</td>\n",
       "      <td>2019.0</td>\n",
       "      <td>1.928541e+09</td>\n",
       "      <td>2018-12-30</td>\n",
       "      <td>2018-12-30</td>\n",
       "      <td>2018-12-30</td>\n",
       "      <td>2019-01-14</td>\n",
       "      <td>USD</td>\n",
       "      <td>23009.12</td>\n",
       "      <td>2018-12-30</td>\n",
       "      <td>NAA8</td>\n",
       "    </tr>\n",
       "    <tr>\n",
       "      <th>37074</th>\n",
       "      <td>U001</td>\n",
       "      <td>0200793568</td>\n",
       "      <td>SUPE foundation</td>\n",
       "      <td>2019-01-15</td>\n",
       "      <td>2019.0</td>\n",
       "      <td>1.928538e+09</td>\n",
       "      <td>2018-12-30</td>\n",
       "      <td>2018-12-29</td>\n",
       "      <td>2018-12-30</td>\n",
       "      <td>2019-01-14</td>\n",
       "      <td>USD</td>\n",
       "      <td>5036.54</td>\n",
       "      <td>2018-12-30</td>\n",
       "      <td>NAA8</td>\n",
       "    </tr>\n",
       "    <tr>\n",
       "      <th>10748</th>\n",
       "      <td>U001</td>\n",
       "      <td>0200762301</td>\n",
       "      <td>C&amp;S WH co</td>\n",
       "      <td>2019-01-15</td>\n",
       "      <td>2019.0</td>\n",
       "      <td>1.928540e+09</td>\n",
       "      <td>2018-12-30</td>\n",
       "      <td>2018-12-29</td>\n",
       "      <td>2018-12-30</td>\n",
       "      <td>2019-01-14</td>\n",
       "      <td>USD</td>\n",
       "      <td>18116.87</td>\n",
       "      <td>2018-12-30</td>\n",
       "      <td>NAC6</td>\n",
       "    </tr>\n",
       "    <tr>\n",
       "      <th>16465</th>\n",
       "      <td>U001</td>\n",
       "      <td>0200755701</td>\n",
       "      <td>ASSOCI llc</td>\n",
       "      <td>2019-01-15</td>\n",
       "      <td>2019.0</td>\n",
       "      <td>1.928537e+09</td>\n",
       "      <td>2018-12-30</td>\n",
       "      <td>2018-12-29</td>\n",
       "      <td>2018-12-30</td>\n",
       "      <td>2019-01-14</td>\n",
       "      <td>USD</td>\n",
       "      <td>18655.77</td>\n",
       "      <td>2018-12-30</td>\n",
       "      <td>NAA8</td>\n",
       "    </tr>\n",
       "    <tr>\n",
       "      <th>...</th>\n",
       "      <td>...</td>\n",
       "      <td>...</td>\n",
       "      <td>...</td>\n",
       "      <td>...</td>\n",
       "      <td>...</td>\n",
       "      <td>...</td>\n",
       "      <td>...</td>\n",
       "      <td>...</td>\n",
       "      <td>...</td>\n",
       "      <td>...</td>\n",
       "      <td>...</td>\n",
       "      <td>...</td>\n",
       "      <td>...</td>\n",
       "      <td>...</td>\n",
       "    </tr>\n",
       "    <tr>\n",
       "      <th>37828</th>\n",
       "      <td>U001</td>\n",
       "      <td>0200793513</td>\n",
       "      <td>KROGER corporation</td>\n",
       "      <td>2020-03-12</td>\n",
       "      <td>2020.0</td>\n",
       "      <td>1.930565e+09</td>\n",
       "      <td>2020-02-26</td>\n",
       "      <td>2020-02-25</td>\n",
       "      <td>2020-02-26</td>\n",
       "      <td>2020-03-12</td>\n",
       "      <td>USD</td>\n",
       "      <td>8469.35</td>\n",
       "      <td>2020-02-26</td>\n",
       "      <td>NAA8</td>\n",
       "    </tr>\n",
       "    <tr>\n",
       "      <th>24384</th>\n",
       "      <td>U001</td>\n",
       "      <td>0200769623</td>\n",
       "      <td>WAL-MAR us</td>\n",
       "      <td>2020-03-09</td>\n",
       "      <td>2020.0</td>\n",
       "      <td>1.930574e+09</td>\n",
       "      <td>2020-02-26</td>\n",
       "      <td>2020-02-26</td>\n",
       "      <td>2020-02-26</td>\n",
       "      <td>2020-03-12</td>\n",
       "      <td>USD</td>\n",
       "      <td>311.84</td>\n",
       "      <td>2020-02-26</td>\n",
       "      <td>NAH4</td>\n",
       "    </tr>\n",
       "    <tr>\n",
       "      <th>6082</th>\n",
       "      <td>U001</td>\n",
       "      <td>0100015557</td>\n",
       "      <td>BI foundation</td>\n",
       "      <td>2020-03-23</td>\n",
       "      <td>2020.0</td>\n",
       "      <td>1.930572e+09</td>\n",
       "      <td>2020-02-26</td>\n",
       "      <td>2020-02-26</td>\n",
       "      <td>2020-02-26</td>\n",
       "      <td>2020-03-12</td>\n",
       "      <td>USD</td>\n",
       "      <td>34492.97</td>\n",
       "      <td>2020-02-26</td>\n",
       "      <td>NAA8</td>\n",
       "    </tr>\n",
       "    <tr>\n",
       "      <th>21815</th>\n",
       "      <td>U001</td>\n",
       "      <td>0200413833</td>\n",
       "      <td>LDC systems</td>\n",
       "      <td>2020-03-20</td>\n",
       "      <td>2020.0</td>\n",
       "      <td>1.930559e+09</td>\n",
       "      <td>2020-02-27</td>\n",
       "      <td>2020-02-23</td>\n",
       "      <td>2020-02-27</td>\n",
       "      <td>2020-03-13</td>\n",
       "      <td>USD</td>\n",
       "      <td>29832.09</td>\n",
       "      <td>2020-02-27</td>\n",
       "      <td>NAA8</td>\n",
       "    </tr>\n",
       "    <tr>\n",
       "      <th>30521</th>\n",
       "      <td>U001</td>\n",
       "      <td>0200778355</td>\n",
       "      <td>US  llc</td>\n",
       "      <td>2020-03-11</td>\n",
       "      <td>2020.0</td>\n",
       "      <td>1.930568e+09</td>\n",
       "      <td>2020-02-27</td>\n",
       "      <td>2020-02-26</td>\n",
       "      <td>2020-02-27</td>\n",
       "      <td>2020-03-13</td>\n",
       "      <td>USD</td>\n",
       "      <td>37848.04</td>\n",
       "      <td>2020-02-27</td>\n",
       "      <td>NAA8</td>\n",
       "    </tr>\n",
       "  </tbody>\n",
       "</table>\n",
       "<p>40000 rows × 14 columns</p>\n",
       "</div>"
      ],
      "text/plain": [
       "      business_code cust_number       name_customer clear_date  buisness_year  \\\n",
       "15840          U001  0200769623  WAL-MAR foundation 2019-01-09         2019.0   \n",
       "44149          U001  0200744019             TARG in 2019-01-18         2019.0   \n",
       "37074          U001  0200793568     SUPE foundation 2019-01-15         2019.0   \n",
       "10748          U001  0200762301           C&S WH co 2019-01-15         2019.0   \n",
       "16465          U001  0200755701          ASSOCI llc 2019-01-15         2019.0   \n",
       "...             ...         ...                 ...        ...            ...   \n",
       "37828          U001  0200793513  KROGER corporation 2020-03-12         2020.0   \n",
       "24384          U001  0200769623          WAL-MAR us 2020-03-09         2020.0   \n",
       "6082           U001  0100015557       BI foundation 2020-03-23         2020.0   \n",
       "21815          U001  0200413833         LDC systems 2020-03-20         2020.0   \n",
       "30521          U001  0200778355             US  llc 2020-03-11         2020.0   \n",
       "\n",
       "             doc_id posting_date document_create_date document_create_date.1  \\\n",
       "15840  1.928517e+09   2018-12-30           2018-12-31             2018-12-30   \n",
       "44149  1.928541e+09   2018-12-30           2018-12-30             2018-12-30   \n",
       "37074  1.928538e+09   2018-12-30           2018-12-29             2018-12-30   \n",
       "10748  1.928540e+09   2018-12-30           2018-12-29             2018-12-30   \n",
       "16465  1.928537e+09   2018-12-30           2018-12-29             2018-12-30   \n",
       "...             ...          ...                  ...                    ...   \n",
       "37828  1.930565e+09   2020-02-26           2020-02-25             2020-02-26   \n",
       "24384  1.930574e+09   2020-02-26           2020-02-26             2020-02-26   \n",
       "6082   1.930572e+09   2020-02-26           2020-02-26             2020-02-26   \n",
       "21815  1.930559e+09   2020-02-27           2020-02-23             2020-02-27   \n",
       "30521  1.930568e+09   2020-02-27           2020-02-26             2020-02-27   \n",
       "\n",
       "      due_in_date invoice_currency  total_open_amount baseline_create_date  \\\n",
       "15840  2019-01-14              USD           69443.10           2018-12-30   \n",
       "44149  2019-01-14              USD           23009.12           2018-12-30   \n",
       "37074  2019-01-14              USD            5036.54           2018-12-30   \n",
       "10748  2019-01-14              USD           18116.87           2018-12-30   \n",
       "16465  2019-01-14              USD           18655.77           2018-12-30   \n",
       "...           ...              ...                ...                  ...   \n",
       "37828  2020-03-12              USD            8469.35           2020-02-26   \n",
       "24384  2020-03-12              USD             311.84           2020-02-26   \n",
       "6082   2020-03-12              USD           34492.97           2020-02-26   \n",
       "21815  2020-03-13              USD           29832.09           2020-02-27   \n",
       "30521  2020-03-13              USD           37848.04           2020-02-27   \n",
       "\n",
       "      cust_payment_terms  \n",
       "15840               NAH4  \n",
       "44149               NAA8  \n",
       "37074               NAA8  \n",
       "10748               NAC6  \n",
       "16465               NAA8  \n",
       "...                  ...  \n",
       "37828               NAA8  \n",
       "24384               NAH4  \n",
       "6082                NAA8  \n",
       "21815               NAA8  \n",
       "30521               NAA8  \n",
       "\n",
       "[40000 rows x 14 columns]"
      ]
     },
     "execution_count": 21,
     "metadata": {},
     "output_type": "execute_result"
    }
   ],
   "source": [
    "#sorting our data as the clear date depends on i.e the date on which payment term started.\n",
    "Train_data.sort_values(by=['posting_date'])"
   ]
  },
  {
   "cell_type": "code",
   "execution_count": 22,
   "id": "fc4506ca",
   "metadata": {},
   "outputs": [],
   "source": [
    "#We will create a target column here having difference of clear_date and due_in_date as a numeric dtype\n",
    "Train_data['delay_no']=(Train_data['clear_date'] - Train_data['due_in_date']).dt.days"
   ]
  },
  {
   "cell_type": "code",
   "execution_count": 23,
   "id": "e7965928",
   "metadata": {},
   "outputs": [],
   "source": [
    "#grouping my cust_number and cust_payment_terms.\n",
    "Train_data['avg_delay'] = Train_data.groupby(['cust_number','cust_payment_terms'])['delay_no'].transform(lambda x: x.mean())"
   ]
  },
  {
   "cell_type": "code",
   "execution_count": 24,
   "id": "7e3e7043",
   "metadata": {},
   "outputs": [
    {
     "data": {
      "text/plain": [
       "(40000,)"
      ]
     },
     "execution_count": 24,
     "metadata": {},
     "output_type": "execute_result"
    }
   ],
   "source": [
    "Train_data['cust_number'].shape"
   ]
  },
  {
   "cell_type": "markdown",
   "id": "b93ed872",
   "metadata": {},
   "source": [
    "# Dataset splitting \n"
   ]
  },
  {
   "cell_type": "code",
   "execution_count": 25,
   "id": "fdc0c443",
   "metadata": {},
   "outputs": [],
   "source": [
    "# splitting in X and Y\n",
    "#X contains the dataframe without the target column delay_no\n",
    "X = Train_data.drop('delay_no',axis=1)\n",
    "\n",
    "# y contains only the target column \n",
    "y = Train_data['delay_no']"
   ]
  },
  {
   "cell_type": "code",
   "execution_count": 26,
   "id": "126ed2bb",
   "metadata": {},
   "outputs": [],
   "source": [
    "from sklearn.model_selection import train_test_split\n",
    "X_train,X_local_test,y_train,y_local_test = train_test_split(X,y,test_size=0.25,random_state=0 , shuffle = False)\n",
    "X_val,X_test,y_val,y_test = train_test_split(X_local_test,y_local_test,test_size=0.5,random_state=0 , shuffle = False)"
   ]
  },
  {
   "cell_type": "code",
   "execution_count": 27,
   "id": "534b03a5",
   "metadata": {},
   "outputs": [
    {
     "data": {
      "text/plain": [
       "((30000, 15), (5000, 15), (5000, 15))"
      ]
     },
     "execution_count": 27,
     "metadata": {},
     "output_type": "execute_result"
    }
   ],
   "source": [
    "\n",
    "X_train.shape , X_val.shape , X_test.shape"
   ]
  },
  {
   "cell_type": "code",
   "execution_count": 28,
   "id": "ff0d84ef",
   "metadata": {},
   "outputs": [
    {
     "data": {
      "text/html": [
       "<div>\n",
       "<style scoped>\n",
       "    .dataframe tbody tr th:only-of-type {\n",
       "        vertical-align: middle;\n",
       "    }\n",
       "\n",
       "    .dataframe tbody tr th {\n",
       "        vertical-align: top;\n",
       "    }\n",
       "\n",
       "    .dataframe thead th {\n",
       "        text-align: right;\n",
       "    }\n",
       "</style>\n",
       "<table border=\"1\" class=\"dataframe\">\n",
       "  <thead>\n",
       "    <tr style=\"text-align: right;\">\n",
       "      <th></th>\n",
       "      <th>business_code</th>\n",
       "      <th>cust_number</th>\n",
       "      <th>name_customer</th>\n",
       "      <th>clear_date</th>\n",
       "      <th>buisness_year</th>\n",
       "      <th>doc_id</th>\n",
       "      <th>posting_date</th>\n",
       "      <th>document_create_date</th>\n",
       "      <th>document_create_date.1</th>\n",
       "      <th>due_in_date</th>\n",
       "      <th>invoice_currency</th>\n",
       "      <th>total_open_amount</th>\n",
       "      <th>baseline_create_date</th>\n",
       "      <th>cust_payment_terms</th>\n",
       "      <th>avg_delay</th>\n",
       "    </tr>\n",
       "  </thead>\n",
       "  <tbody>\n",
       "    <tr>\n",
       "      <th>0</th>\n",
       "      <td>U002</td>\n",
       "      <td>0200501669</td>\n",
       "      <td>WAL MA associates</td>\n",
       "      <td>2019-02-12</td>\n",
       "      <td>2019.0</td>\n",
       "      <td>1.990564e+09</td>\n",
       "      <td>2019-01-01</td>\n",
       "      <td>2018-12-29</td>\n",
       "      <td>2019-01-01</td>\n",
       "      <td>2019-02-05</td>\n",
       "      <td>USD</td>\n",
       "      <td>14454.87</td>\n",
       "      <td>2019-01-01</td>\n",
       "      <td>NAG2</td>\n",
       "      <td>6.782609</td>\n",
       "    </tr>\n",
       "    <tr>\n",
       "      <th>1</th>\n",
       "      <td>U001</td>\n",
       "      <td>0200803720</td>\n",
       "      <td>DEC foundation</td>\n",
       "      <td>2019-09-12</td>\n",
       "      <td>2019.0</td>\n",
       "      <td>1.929845e+09</td>\n",
       "      <td>2019-09-07</td>\n",
       "      <td>2019-09-07</td>\n",
       "      <td>2019-09-07</td>\n",
       "      <td>2019-09-11</td>\n",
       "      <td>USD</td>\n",
       "      <td>8168.94</td>\n",
       "      <td>2019-09-01</td>\n",
       "      <td>NAM2</td>\n",
       "      <td>-0.712766</td>\n",
       "    </tr>\n",
       "    <tr>\n",
       "      <th>2</th>\n",
       "      <td>U001</td>\n",
       "      <td>0200331749</td>\n",
       "      <td>SYSC in</td>\n",
       "      <td>2019-04-15</td>\n",
       "      <td>2019.0</td>\n",
       "      <td>1.929044e+09</td>\n",
       "      <td>2019-03-29</td>\n",
       "      <td>2019-03-28</td>\n",
       "      <td>2019-03-29</td>\n",
       "      <td>2019-04-13</td>\n",
       "      <td>USD</td>\n",
       "      <td>5969.69</td>\n",
       "      <td>2019-03-29</td>\n",
       "      <td>NAA8</td>\n",
       "      <td>1.179775</td>\n",
       "    </tr>\n",
       "    <tr>\n",
       "      <th>3</th>\n",
       "      <td>U001</td>\n",
       "      <td>0200762301</td>\n",
       "      <td>C&amp;S WH in</td>\n",
       "      <td>2019-05-09</td>\n",
       "      <td>2019.0</td>\n",
       "      <td>1.929196e+09</td>\n",
       "      <td>2019-04-25</td>\n",
       "      <td>2019-04-23</td>\n",
       "      <td>2019-04-25</td>\n",
       "      <td>2019-05-10</td>\n",
       "      <td>USD</td>\n",
       "      <td>68682.87</td>\n",
       "      <td>2019-04-25</td>\n",
       "      <td>NAC6</td>\n",
       "      <td>0.726148</td>\n",
       "    </tr>\n",
       "    <tr>\n",
       "      <th>4</th>\n",
       "      <td>U001</td>\n",
       "      <td>0200712187</td>\n",
       "      <td>SPAR systems</td>\n",
       "      <td>2019-07-23</td>\n",
       "      <td>2019.0</td>\n",
       "      <td>1.929594e+09</td>\n",
       "      <td>2019-07-08</td>\n",
       "      <td>2019-07-09</td>\n",
       "      <td>2019-07-08</td>\n",
       "      <td>2019-07-23</td>\n",
       "      <td>USD</td>\n",
       "      <td>61529.23</td>\n",
       "      <td>2019-07-08</td>\n",
       "      <td>NAA8</td>\n",
       "      <td>1.157895</td>\n",
       "    </tr>\n",
       "  </tbody>\n",
       "</table>\n",
       "</div>"
      ],
      "text/plain": [
       "  business_code cust_number      name_customer clear_date  buisness_year  \\\n",
       "0          U002  0200501669  WAL MA associates 2019-02-12         2019.0   \n",
       "1          U001  0200803720     DEC foundation 2019-09-12         2019.0   \n",
       "2          U001  0200331749            SYSC in 2019-04-15         2019.0   \n",
       "3          U001  0200762301          C&S WH in 2019-05-09         2019.0   \n",
       "4          U001  0200712187       SPAR systems 2019-07-23         2019.0   \n",
       "\n",
       "         doc_id posting_date document_create_date document_create_date.1  \\\n",
       "0  1.990564e+09   2019-01-01           2018-12-29             2019-01-01   \n",
       "1  1.929845e+09   2019-09-07           2019-09-07             2019-09-07   \n",
       "2  1.929044e+09   2019-03-29           2019-03-28             2019-03-29   \n",
       "3  1.929196e+09   2019-04-25           2019-04-23             2019-04-25   \n",
       "4  1.929594e+09   2019-07-08           2019-07-09             2019-07-08   \n",
       "\n",
       "  due_in_date invoice_currency  total_open_amount baseline_create_date  \\\n",
       "0  2019-02-05              USD           14454.87           2019-01-01   \n",
       "1  2019-09-11              USD            8168.94           2019-09-01   \n",
       "2  2019-04-13              USD            5969.69           2019-03-29   \n",
       "3  2019-05-10              USD           68682.87           2019-04-25   \n",
       "4  2019-07-23              USD           61529.23           2019-07-08   \n",
       "\n",
       "  cust_payment_terms  avg_delay  \n",
       "0               NAG2   6.782609  \n",
       "1               NAM2  -0.712766  \n",
       "2               NAA8   1.179775  \n",
       "3               NAC6   0.726148  \n",
       "4               NAA8   1.157895  "
      ]
     },
     "execution_count": 28,
     "metadata": {},
     "output_type": "execute_result"
    }
   ],
   "source": [
    "X_train.head()"
   ]
  },
  {
   "cell_type": "code",
   "execution_count": 29,
   "id": "f908f3dc",
   "metadata": {},
   "outputs": [
    {
     "data": {
      "text/plain": [
       "business_code                     object\n",
       "cust_number                       object\n",
       "name_customer                     object\n",
       "clear_date                datetime64[ns]\n",
       "buisness_year                    float64\n",
       "doc_id                           float64\n",
       "posting_date              datetime64[ns]\n",
       "document_create_date      datetime64[ns]\n",
       "document_create_date.1    datetime64[ns]\n",
       "due_in_date               datetime64[ns]\n",
       "invoice_currency                  object\n",
       "total_open_amount                float64\n",
       "baseline_create_date      datetime64[ns]\n",
       "cust_payment_terms                object\n",
       "avg_delay                        float64\n",
       "dtype: object"
      ]
     },
     "execution_count": 29,
     "metadata": {},
     "output_type": "execute_result"
    }
   ],
   "source": [
    "X_train.dtypes\n"
   ]
  },
  {
   "cell_type": "markdown",
   "id": "a172169a",
   "metadata": {},
   "source": [
    "# feature engineering"
   ]
  },
  {
   "cell_type": "code",
   "execution_count": 30,
   "id": "e8b54983",
   "metadata": {
    "scrolled": true
   },
   "outputs": [
    {
     "data": {
      "text/plain": [
       "<AxesSubplot:xlabel='delay_no', ylabel='Density'>"
      ]
     },
     "execution_count": 30,
     "metadata": {},
     "output_type": "execute_result"
    },
    {
     "data": {
      "image/png": "[encoded data removed]",
      "text/plain": [
       "<Figure size 432x288 with 1 Axes>"
      ]
     },
     "metadata": {
      "needs_background": "light"
     },
     "output_type": "display_data"
    }
   ],
   "source": [
    "sns.distplot(y_train)"
   ]
  },
  {
   "cell_type": "code",
   "execution_count": null,
   "id": "fabf77ef",
   "metadata": {},
   "outputs": [],
   "source": []
  },
  {
   "cell_type": "code",
   "execution_count": 31,
   "id": "aa5cee21",
   "metadata": {
    "scrolled": true
   },
   "outputs": [
    {
     "data": {
      "text/html": [
       "<div>\n",
       "<style scoped>\n",
       "    .dataframe tbody tr th:only-of-type {\n",
       "        vertical-align: middle;\n",
       "    }\n",
       "\n",
       "    .dataframe tbody tr th {\n",
       "        vertical-align: top;\n",
       "    }\n",
       "\n",
       "    .dataframe thead th {\n",
       "        text-align: right;\n",
       "    }\n",
       "</style>\n",
       "<table border=\"1\" class=\"dataframe\">\n",
       "  <thead>\n",
       "    <tr style=\"text-align: right;\">\n",
       "      <th></th>\n",
       "      <th>key_0</th>\n",
       "      <th>business_code</th>\n",
       "      <th>cust_number</th>\n",
       "      <th>name_customer</th>\n",
       "      <th>clear_date</th>\n",
       "      <th>buisness_year</th>\n",
       "      <th>doc_id</th>\n",
       "      <th>posting_date</th>\n",
       "      <th>document_create_date</th>\n",
       "      <th>document_create_date.1</th>\n",
       "      <th>due_in_date</th>\n",
       "      <th>invoice_currency</th>\n",
       "      <th>total_open_amount</th>\n",
       "      <th>baseline_create_date</th>\n",
       "      <th>cust_payment_terms</th>\n",
       "      <th>avg_delay</th>\n",
       "      <th>delay_no</th>\n",
       "    </tr>\n",
       "  </thead>\n",
       "  <tbody>\n",
       "    <tr>\n",
       "      <th>0</th>\n",
       "      <td>0</td>\n",
       "      <td>U002</td>\n",
       "      <td>0200501669</td>\n",
       "      <td>WAL MA associates</td>\n",
       "      <td>2019-02-12</td>\n",
       "      <td>2019.0</td>\n",
       "      <td>1.990564e+09</td>\n",
       "      <td>2019-01-01</td>\n",
       "      <td>2018-12-29</td>\n",
       "      <td>2019-01-01</td>\n",
       "      <td>2019-02-05</td>\n",
       "      <td>USD</td>\n",
       "      <td>14454.87</td>\n",
       "      <td>2019-01-01</td>\n",
       "      <td>NAG2</td>\n",
       "      <td>6.782609</td>\n",
       "      <td>7</td>\n",
       "    </tr>\n",
       "    <tr>\n",
       "      <th>1</th>\n",
       "      <td>1</td>\n",
       "      <td>U001</td>\n",
       "      <td>0200803720</td>\n",
       "      <td>DEC foundation</td>\n",
       "      <td>2019-09-12</td>\n",
       "      <td>2019.0</td>\n",
       "      <td>1.929845e+09</td>\n",
       "      <td>2019-09-07</td>\n",
       "      <td>2019-09-07</td>\n",
       "      <td>2019-09-07</td>\n",
       "      <td>2019-09-11</td>\n",
       "      <td>USD</td>\n",
       "      <td>8168.94</td>\n",
       "      <td>2019-09-01</td>\n",
       "      <td>NAM2</td>\n",
       "      <td>-0.712766</td>\n",
       "      <td>1</td>\n",
       "    </tr>\n",
       "    <tr>\n",
       "      <th>2</th>\n",
       "      <td>2</td>\n",
       "      <td>U001</td>\n",
       "      <td>0200331749</td>\n",
       "      <td>SYSC in</td>\n",
       "      <td>2019-04-15</td>\n",
       "      <td>2019.0</td>\n",
       "      <td>1.929044e+09</td>\n",
       "      <td>2019-03-29</td>\n",
       "      <td>2019-03-28</td>\n",
       "      <td>2019-03-29</td>\n",
       "      <td>2019-04-13</td>\n",
       "      <td>USD</td>\n",
       "      <td>5969.69</td>\n",
       "      <td>2019-03-29</td>\n",
       "      <td>NAA8</td>\n",
       "      <td>1.179775</td>\n",
       "      <td>2</td>\n",
       "    </tr>\n",
       "    <tr>\n",
       "      <th>3</th>\n",
       "      <td>3</td>\n",
       "      <td>U001</td>\n",
       "      <td>0200762301</td>\n",
       "      <td>C&amp;S WH in</td>\n",
       "      <td>2019-05-09</td>\n",
       "      <td>2019.0</td>\n",
       "      <td>1.929196e+09</td>\n",
       "      <td>2019-04-25</td>\n",
       "      <td>2019-04-23</td>\n",
       "      <td>2019-04-25</td>\n",
       "      <td>2019-05-10</td>\n",
       "      <td>USD</td>\n",
       "      <td>68682.87</td>\n",
       "      <td>2019-04-25</td>\n",
       "      <td>NAC6</td>\n",
       "      <td>0.726148</td>\n",
       "      <td>-1</td>\n",
       "    </tr>\n",
       "    <tr>\n",
       "      <th>4</th>\n",
       "      <td>4</td>\n",
       "      <td>U001</td>\n",
       "      <td>0200712187</td>\n",
       "      <td>SPAR systems</td>\n",
       "      <td>2019-07-23</td>\n",
       "      <td>2019.0</td>\n",
       "      <td>1.929594e+09</td>\n",
       "      <td>2019-07-08</td>\n",
       "      <td>2019-07-09</td>\n",
       "      <td>2019-07-08</td>\n",
       "      <td>2019-07-23</td>\n",
       "      <td>USD</td>\n",
       "      <td>61529.23</td>\n",
       "      <td>2019-07-08</td>\n",
       "      <td>NAA8</td>\n",
       "      <td>1.157895</td>\n",
       "      <td>0</td>\n",
       "    </tr>\n",
       "    <tr>\n",
       "      <th>...</th>\n",
       "      <td>...</td>\n",
       "      <td>...</td>\n",
       "      <td>...</td>\n",
       "      <td>...</td>\n",
       "      <td>...</td>\n",
       "      <td>...</td>\n",
       "      <td>...</td>\n",
       "      <td>...</td>\n",
       "      <td>...</td>\n",
       "      <td>...</td>\n",
       "      <td>...</td>\n",
       "      <td>...</td>\n",
       "      <td>...</td>\n",
       "      <td>...</td>\n",
       "      <td>...</td>\n",
       "      <td>...</td>\n",
       "      <td>...</td>\n",
       "    </tr>\n",
       "    <tr>\n",
       "      <th>29995</th>\n",
       "      <td>37503</td>\n",
       "      <td>U001</td>\n",
       "      <td>0200769623</td>\n",
       "      <td>WAL-MAR foundation</td>\n",
       "      <td>2019-04-25</td>\n",
       "      <td>2019.0</td>\n",
       "      <td>1.929093e+09</td>\n",
       "      <td>2019-04-07</td>\n",
       "      <td>2019-04-07</td>\n",
       "      <td>2019-04-07</td>\n",
       "      <td>2019-04-22</td>\n",
       "      <td>USD</td>\n",
       "      <td>645.54</td>\n",
       "      <td>2019-04-07</td>\n",
       "      <td>NAH4</td>\n",
       "      <td>-2.212673</td>\n",
       "      <td>3</td>\n",
       "    </tr>\n",
       "    <tr>\n",
       "      <th>29996</th>\n",
       "      <td>37505</td>\n",
       "      <td>U001</td>\n",
       "      <td>0200769623</td>\n",
       "      <td>WAL-MAR llc</td>\n",
       "      <td>2019-06-25</td>\n",
       "      <td>2019.0</td>\n",
       "      <td>1.929488e+09</td>\n",
       "      <td>2019-06-15</td>\n",
       "      <td>2019-06-13</td>\n",
       "      <td>2019-06-15</td>\n",
       "      <td>2019-06-30</td>\n",
       "      <td>USD</td>\n",
       "      <td>47824.46</td>\n",
       "      <td>2019-06-15</td>\n",
       "      <td>NAH4</td>\n",
       "      <td>-2.212673</td>\n",
       "      <td>-5</td>\n",
       "    </tr>\n",
       "    <tr>\n",
       "      <th>29997</th>\n",
       "      <td>37506</td>\n",
       "      <td>U001</td>\n",
       "      <td>0200705742</td>\n",
       "      <td>DOT systems</td>\n",
       "      <td>2019-10-23</td>\n",
       "      <td>2019.0</td>\n",
       "      <td>1.929984e+09</td>\n",
       "      <td>2019-10-08</td>\n",
       "      <td>2019-10-08</td>\n",
       "      <td>2019-10-08</td>\n",
       "      <td>2019-10-28</td>\n",
       "      <td>USD</td>\n",
       "      <td>53651.15</td>\n",
       "      <td>2019-10-08</td>\n",
       "      <td>NAD1</td>\n",
       "      <td>-4.000000</td>\n",
       "      <td>-5</td>\n",
       "    </tr>\n",
       "    <tr>\n",
       "      <th>29998</th>\n",
       "      <td>37507</td>\n",
       "      <td>U001</td>\n",
       "      <td>0200762301</td>\n",
       "      <td>C&amp;S WH corporation</td>\n",
       "      <td>2019-08-23</td>\n",
       "      <td>2019.0</td>\n",
       "      <td>1.929719e+09</td>\n",
       "      <td>2019-08-08</td>\n",
       "      <td>2019-08-07</td>\n",
       "      <td>2019-08-08</td>\n",
       "      <td>2019-08-23</td>\n",
       "      <td>USD</td>\n",
       "      <td>18584.34</td>\n",
       "      <td>2019-08-08</td>\n",
       "      <td>NAC6</td>\n",
       "      <td>0.726148</td>\n",
       "      <td>0</td>\n",
       "    </tr>\n",
       "    <tr>\n",
       "      <th>29999</th>\n",
       "      <td>37508</td>\n",
       "      <td>U001</td>\n",
       "      <td>0200020431</td>\n",
       "      <td>DEC corporation</td>\n",
       "      <td>2019-09-03</td>\n",
       "      <td>2019.0</td>\n",
       "      <td>1.929773e+09</td>\n",
       "      <td>2019-08-22</td>\n",
       "      <td>2019-08-22</td>\n",
       "      <td>2019-08-22</td>\n",
       "      <td>2019-09-08</td>\n",
       "      <td>USD</td>\n",
       "      <td>550.56</td>\n",
       "      <td>2019-08-16</td>\n",
       "      <td>NAM4</td>\n",
       "      <td>-7.525000</td>\n",
       "      <td>-5</td>\n",
       "    </tr>\n",
       "  </tbody>\n",
       "</table>\n",
       "<p>30000 rows × 17 columns</p>\n",
       "</div>"
      ],
      "text/plain": [
       "       key_0 business_code cust_number       name_customer clear_date  \\\n",
       "0          0          U002  0200501669   WAL MA associates 2019-02-12   \n",
       "1          1          U001  0200803720      DEC foundation 2019-09-12   \n",
       "2          2          U001  0200331749             SYSC in 2019-04-15   \n",
       "3          3          U001  0200762301           C&S WH in 2019-05-09   \n",
       "4          4          U001  0200712187        SPAR systems 2019-07-23   \n",
       "...      ...           ...         ...                 ...        ...   \n",
       "29995  37503          U001  0200769623  WAL-MAR foundation 2019-04-25   \n",
       "29996  37505          U001  0200769623         WAL-MAR llc 2019-06-25   \n",
       "29997  37506          U001  0200705742         DOT systems 2019-10-23   \n",
       "29998  37507          U001  0200762301  C&S WH corporation 2019-08-23   \n",
       "29999  37508          U001  0200020431     DEC corporation 2019-09-03   \n",
       "\n",
       "       buisness_year        doc_id posting_date document_create_date  \\\n",
       "0             2019.0  1.990564e+09   2019-01-01           2018-12-29   \n",
       "1             2019.0  1.929845e+09   2019-09-07           2019-09-07   \n",
       "2             2019.0  1.929044e+09   2019-03-29           2019-03-28   \n",
       "3             2019.0  1.929196e+09   2019-04-25           2019-04-23   \n",
       "4             2019.0  1.929594e+09   2019-07-08           2019-07-09   \n",
       "...              ...           ...          ...                  ...   \n",
       "29995         2019.0  1.929093e+09   2019-04-07           2019-04-07   \n",
       "29996         2019.0  1.929488e+09   2019-06-15           2019-06-13   \n",
       "29997         2019.0  1.929984e+09   2019-10-08           2019-10-08   \n",
       "29998         2019.0  1.929719e+09   2019-08-08           2019-08-07   \n",
       "29999         2019.0  1.929773e+09   2019-08-22           2019-08-22   \n",
       "\n",
       "      document_create_date.1 due_in_date invoice_currency  total_open_amount  \\\n",
       "0                 2019-01-01  2019-02-05              USD           14454.87   \n",
       "1                 2019-09-07  2019-09-11              USD            8168.94   \n",
       "2                 2019-03-29  2019-04-13              USD            5969.69   \n",
       "3                 2019-04-25  2019-05-10              USD           68682.87   \n",
       "4                 2019-07-08  2019-07-23              USD           61529.23   \n",
       "...                      ...         ...              ...                ...   \n",
       "29995             2019-04-07  2019-04-22              USD             645.54   \n",
       "29996             2019-06-15  2019-06-30              USD           47824.46   \n",
       "29997             2019-10-08  2019-10-28              USD           53651.15   \n",
       "29998             2019-08-08  2019-08-23              USD           18584.34   \n",
       "29999             2019-08-22  2019-09-08              USD             550.56   \n",
       "\n",
       "      baseline_create_date cust_payment_terms  avg_delay  delay_no  \n",
       "0               2019-01-01               NAG2   6.782609         7  \n",
       "1               2019-09-01               NAM2  -0.712766         1  \n",
       "2               2019-03-29               NAA8   1.179775         2  \n",
       "3               2019-04-25               NAC6   0.726148        -1  \n",
       "4               2019-07-08               NAA8   1.157895         0  \n",
       "...                    ...                ...        ...       ...  \n",
       "29995           2019-04-07               NAH4  -2.212673         3  \n",
       "29996           2019-06-15               NAH4  -2.212673        -5  \n",
       "29997           2019-10-08               NAD1  -4.000000        -5  \n",
       "29998           2019-08-08               NAC6   0.726148         0  \n",
       "29999           2019-08-16               NAM4  -7.525000        -5  \n",
       "\n",
       "[30000 rows x 17 columns]"
      ]
     },
     "execution_count": 31,
     "metadata": {},
     "output_type": "execute_result"
    }
   ],
   "source": [
    "X_train.merge(y_train,on = X_train.index)"
   ]
  },
  {
   "cell_type": "code",
   "execution_count": 32,
   "id": "9ec59f20",
   "metadata": {},
   "outputs": [
    {
     "data": {
      "text/plain": [
       "<AxesSubplot:xlabel='delay_no', ylabel='total_open_amount'>"
      ]
     },
     "execution_count": 32,
     "metadata": {},
     "output_type": "execute_result"
    },
    {
     "data": {
      "image/png": "[encoded data removed]",
      "text/plain": [
       "<Figure size 432x288 with 1 Axes>"
      ]
     },
     "metadata": {
      "needs_background": "light"
     },
     "output_type": "display_data"
    }
   ],
   "source": [
    "sns.scatterplot(data=X_train.merge(y_train,on = X_train.index), x=\"delay_no\", y=\"total_open_amount\")"
   ]
  },
  {
   "cell_type": "code",
   "execution_count": 33,
   "id": "1e0211d3",
   "metadata": {},
   "outputs": [
    {
     "name": "stdout",
     "output_type": "stream",
     "text": [
      "<class 'pandas.core.frame.DataFrame'>\n",
      "Int64Index: 30000 entries, 0 to 37508\n",
      "Data columns (total 15 columns):\n",
      " #   Column                  Non-Null Count  Dtype         \n",
      "---  ------                  --------------  -----         \n",
      " 0   business_code           30000 non-null  object        \n",
      " 1   cust_number             30000 non-null  object        \n",
      " 2   name_customer           30000 non-null  object        \n",
      " 3   clear_date              30000 non-null  datetime64[ns]\n",
      " 4   buisness_year           30000 non-null  float64       \n",
      " 5   doc_id                  30000 non-null  float64       \n",
      " 6   posting_date            30000 non-null  datetime64[ns]\n",
      " 7   document_create_date    30000 non-null  datetime64[ns]\n",
      " 8   document_create_date.1  30000 non-null  datetime64[ns]\n",
      " 9   due_in_date             30000 non-null  datetime64[ns]\n",
      " 10  invoice_currency        30000 non-null  object        \n",
      " 11  total_open_amount       30000 non-null  float64       \n",
      " 12  baseline_create_date    30000 non-null  datetime64[ns]\n",
      " 13  cust_payment_terms      30000 non-null  object        \n",
      " 14  avg_delay               30000 non-null  float64       \n",
      "dtypes: datetime64[ns](6), float64(4), object(5)\n",
      "memory usage: 3.7+ MB\n"
     ]
    }
   ],
   "source": [
    "X_train.info()"
   ]
  },
  {
   "cell_type": "code",
   "execution_count": 34,
   "id": "1cae2963",
   "metadata": {},
   "outputs": [
    {
     "data": {
      "text/plain": [
       "dtype('int64')"
      ]
     },
     "execution_count": 34,
     "metadata": {},
     "output_type": "execute_result"
    }
   ],
   "source": [
    "X_train['range']=(X_train['due_in_date']-X_train['posting_date']).dt.days\n",
    "X_train['range'].dtypes"
   ]
  },
  {
   "cell_type": "code",
   "execution_count": 35,
   "id": "07fc20f1",
   "metadata": {},
   "outputs": [
    {
     "data": {
      "text/plain": [
       "<AxesSubplot:xlabel='range', ylabel='delay_no'>"
      ]
     },
     "execution_count": 35,
     "metadata": {},
     "output_type": "execute_result"
    },
    {
     "data": {
      "image/png": "[encoded data removed]",
      "text/plain": [
       "<Figure size 432x288 with 1 Axes>"
      ]
     },
     "metadata": {
      "needs_background": "light"
     },
     "output_type": "display_data"
    }
   ],
   "source": [
    "#checking range between two dates i.e(due date and posting date) effecting delay_no\n",
    "sns.scatterplot(data=X_train.merge(y_train,on = X_train.index), x=\"range\", y=\"delay_no\")"
   ]
  },
  {
   "cell_type": "code",
   "execution_count": 36,
   "id": "0055705b",
   "metadata": {},
   "outputs": [
    {
     "name": "stdout",
     "output_type": "stream",
     "text": [
      "<class 'pandas.core.frame.DataFrame'>\n",
      "Int64Index: 30000 entries, 0 to 37508\n",
      "Data columns (total 16 columns):\n",
      " #   Column                  Non-Null Count  Dtype         \n",
      "---  ------                  --------------  -----         \n",
      " 0   business_code           30000 non-null  object        \n",
      " 1   cust_number             30000 non-null  object        \n",
      " 2   name_customer           30000 non-null  object        \n",
      " 3   clear_date              30000 non-null  datetime64[ns]\n",
      " 4   buisness_year           30000 non-null  float64       \n",
      " 5   doc_id                  30000 non-null  float64       \n",
      " 6   posting_date            30000 non-null  datetime64[ns]\n",
      " 7   document_create_date    30000 non-null  datetime64[ns]\n",
      " 8   document_create_date.1  30000 non-null  datetime64[ns]\n",
      " 9   due_in_date             30000 non-null  datetime64[ns]\n",
      " 10  invoice_currency        30000 non-null  object        \n",
      " 11  total_open_amount       30000 non-null  float64       \n",
      " 12  baseline_create_date    30000 non-null  datetime64[ns]\n",
      " 13  cust_payment_terms      30000 non-null  object        \n",
      " 14  avg_delay               30000 non-null  float64       \n",
      " 15  range                   30000 non-null  int64         \n",
      "dtypes: datetime64[ns](6), float64(4), int64(1), object(5)\n",
      "memory usage: 3.9+ MB\n"
     ]
    }
   ],
   "source": [
    "X_train.info()"
   ]
  },
  {
   "cell_type": "code",
   "execution_count": 37,
   "id": "126e20a9",
   "metadata": {},
   "outputs": [
    {
     "data": {
      "text/plain": [
       "0200769623     True\n",
       "0200726979     True\n",
       "0200762301     True\n",
       "0200759878     True\n",
       "0200794332     True\n",
       "              ...  \n",
       "140103335     False\n",
       "140105678     False\n",
       "0200966944    False\n",
       "140106209     False\n",
       "140103699     False\n",
       "Name: cust_number, Length: 1217, dtype: bool"
      ]
     },
     "execution_count": 37,
     "metadata": {},
     "output_type": "execute_result"
    }
   ],
   "source": [
    "X_train['cust_number'].value_counts()>1"
   ]
  },
  {
   "cell_type": "code",
   "execution_count": 38,
   "id": "a374fcf5",
   "metadata": {},
   "outputs": [
    {
     "data": {
      "text/plain": [
       "cust_number\n",
       "0100000048    22.500000\n",
       "0100000158    34.000000\n",
       "0100000161     0.000000\n",
       "0100000217    -1.666667\n",
       "0100000222    -3.892857\n",
       "                ...    \n",
       "CC7470        99.000000\n",
       "CCCA02         7.950249\n",
       "CCU001         6.750000\n",
       "CCU002         7.384058\n",
       "CCU013        42.652406\n",
       "Name: delay_no, Length: 1332, dtype: float64"
      ]
     },
     "execution_count": 38,
     "metadata": {},
     "output_type": "execute_result"
    }
   ],
   "source": [
    "#insight of grouping in customer ,avg delay and amount.\n",
    "Train_data.groupby(['cust_number'])['delay_no'].mean()"
   ]
  },
  {
   "cell_type": "code",
   "execution_count": 39,
   "id": "d9653aa4",
   "metadata": {},
   "outputs": [
    {
     "data": {
      "text/plain": [
       "<matplotlib.collections.PathCollection at 0x218a11b0820>"
      ]
     },
     "execution_count": 39,
     "metadata": {},
     "output_type": "execute_result"
    },
    {
     "data": {
      "image/png": "[encoded data removed]",
      "text/plain": [
       "<Figure size 432x288 with 1 Axes>"
      ]
     },
     "metadata": {
      "needs_background": "light"
     },
     "output_type": "display_data"
    }
   ],
   "source": [
    "plt.scatter(X_train['total_open_amount'],y_train)"
   ]
  },
  {
   "cell_type": "markdown",
   "id": "52cf6238",
   "metadata": {},
   "source": [
    "#  calculating no of outliers."
   ]
  },
  {
   "cell_type": "code",
   "execution_count": 40,
   "id": "1073e544",
   "metadata": {},
   "outputs": [
    {
     "data": {
      "text/plain": [
       "0"
      ]
     },
     "execution_count": 40,
     "metadata": {},
     "output_type": "execute_result"
    }
   ],
   "source": [
    "#checking for anomalies \n",
    "#checking due dates even before the invoice was genrated.\n",
    "(X_train['baseline_create_date']>X_train['due_in_date']).sum()"
   ]
  },
  {
   "cell_type": "code",
   "execution_count": 41,
   "id": "8a428fd3",
   "metadata": {},
   "outputs": [
    {
     "data": {
      "text/plain": [
       "0"
      ]
     },
     "execution_count": 41,
     "metadata": {},
     "output_type": "execute_result"
    }
   ],
   "source": [
    "#checking if open amount is in negative if yes then drop it.\n",
    "(X_train['total_open_amount']<0).sum()"
   ]
  },
  {
   "cell_type": "code",
   "execution_count": 42,
   "id": "fe670e4c",
   "metadata": {},
   "outputs": [
    {
     "data": {
      "text/plain": [
       "<AxesSubplot:xlabel='total_open_amount'>"
      ]
     },
     "execution_count": 42,
     "metadata": {},
     "output_type": "execute_result"
    },
    {
     "data": {
      "image/png": "[encoded data removed]",
      "text/plain": [
       "<Figure size 432x288 with 1 Axes>"
      ]
     },
     "metadata": {
      "needs_background": "light"
     },
     "output_type": "display_data"
    }
   ],
   "source": [
    "#checking univariate outliner\n",
    "sns.boxplot(x=X_train['total_open_amount'])\n"
   ]
  },
  {
   "cell_type": "markdown",
   "id": "2a320212",
   "metadata": {},
   "source": []
  },
  {
   "cell_type": "code",
   "execution_count": 43,
   "id": "c315c4f6",
   "metadata": {},
   "outputs": [
    {
     "name": "stdout",
     "output_type": "stream",
     "text": [
      "Identified outliers: 1561\n",
      "Non-outlier observations: 20939\n"
     ]
    }
   ],
   "source": [
    "Q1 = np.percentile(X_train['total_open_amount'], 25, interpolation = 'midpoint') \n",
    "Q3 = np.percentile(X_train['total_open_amount'], 75, interpolation = 'midpoint') \n",
    "IQR = Q3 - Q1  \n",
    "\n",
    "u = (Q3+1.5*IQR)\n",
    "l = (Q1-1.5*IQR)\n",
    "\n",
    "# identify outliers\n",
    "outliers = [x for x in X_train['total_open_amount'] if x < l or x > u]\n",
    "print('Identified outliers: %d' % len(outliers))\n",
    "#removing outliers\n",
    "outliers_removed = [x for x in X_train['total_open_amount'] if x > Q1 and x < u]\n",
    "print('Non-outlier observations: %d' % len(outliers_removed))"
   ]
  },
  {
   "cell_type": "code",
   "execution_count": null,
   "id": "594e311d",
   "metadata": {},
   "outputs": [],
   "source": []
  },
  {
   "cell_type": "markdown",
   "id": "2a96418e",
   "metadata": {},
   "source": [
    "# Feature engineering"
   ]
  },
  {
   "cell_type": "code",
   "execution_count": 44,
   "id": "c253d997",
   "metadata": {},
   "outputs": [
    {
     "name": "stdout",
     "output_type": "stream",
     "text": [
      "<class 'pandas.core.frame.DataFrame'>\n",
      "Int64Index: 30000 entries, 0 to 37508\n",
      "Data columns (total 16 columns):\n",
      " #   Column                  Non-Null Count  Dtype         \n",
      "---  ------                  --------------  -----         \n",
      " 0   business_code           30000 non-null  object        \n",
      " 1   cust_number             30000 non-null  object        \n",
      " 2   name_customer           30000 non-null  object        \n",
      " 3   clear_date              30000 non-null  datetime64[ns]\n",
      " 4   buisness_year           30000 non-null  float64       \n",
      " 5   doc_id                  30000 non-null  float64       \n",
      " 6   posting_date            30000 non-null  datetime64[ns]\n",
      " 7   document_create_date    30000 non-null  datetime64[ns]\n",
      " 8   document_create_date.1  30000 non-null  datetime64[ns]\n",
      " 9   due_in_date             30000 non-null  datetime64[ns]\n",
      " 10  invoice_currency        30000 non-null  object        \n",
      " 11  total_open_amount       30000 non-null  float64       \n",
      " 12  baseline_create_date    30000 non-null  datetime64[ns]\n",
      " 13  cust_payment_terms      30000 non-null  object        \n",
      " 14  avg_delay               30000 non-null  float64       \n",
      " 15  range                   30000 non-null  int64         \n",
      "dtypes: datetime64[ns](6), float64(4), int64(1), object(5)\n",
      "memory usage: 3.9+ MB\n"
     ]
    }
   ],
   "source": [
    "X_train.info()"
   ]
  },
  {
   "cell_type": "code",
   "execution_count": 45,
   "id": "077db78c",
   "metadata": {},
   "outputs": [
    {
     "name": "stdout",
     "output_type": "stream",
     "text": [
      "['range', 'total_open_amount', 'buisness_year', 'avg_delay', 'doc_id']\n",
      "['name_customer', 'business_code', 'invoice_currency', 'cust_number', 'cust_payment_terms']\n"
     ]
    }
   ],
   "source": [
    "#listing out categorical and numerical variables for feature engineering.\n",
    "numCols = X_train.select_dtypes(\"number\").columns\n",
    "catCols = X_train.select_dtypes(\"object\").columns\n",
    "numCols= list(set(numCols))\n",
    "catCols= list(set(catCols))\n",
    "print(numCols)\n",
    "print(catCols)"
   ]
  },
  {
   "cell_type": "code",
   "execution_count": 46,
   "id": "9f639f97",
   "metadata": {},
   "outputs": [
    {
     "data": {
      "text/plain": [
       "business_code                 5\n",
       "cust_number                1217\n",
       "name_customer              3455\n",
       "clear_date                  392\n",
       "buisness_year                 2\n",
       "doc_id                    29526\n",
       "posting_date                422\n",
       "document_create_date        425\n",
       "document_create_date.1      422\n",
       "due_in_date                 489\n",
       "invoice_currency              2\n",
       "total_open_amount         27196\n",
       "baseline_create_date        429\n",
       "cust_payment_terms           66\n",
       "avg_delay                   638\n",
       "range                        65\n",
       "dtype: int64"
      ]
     },
     "execution_count": 46,
     "metadata": {},
     "output_type": "execute_result"
    }
   ],
   "source": [
    "#finding unique values in every categorical col to specify the type of encoding.\n",
    "X_train.nunique()"
   ]
  },
  {
   "cell_type": "code",
   "execution_count": 47,
   "id": "169a1563",
   "metadata": {},
   "outputs": [],
   "source": [
    "#label encoding business_code\n",
    "from sklearn.preprocessing import LabelEncoder\n",
    "business_code_encoder = LabelEncoder()\n",
    "business_code_encoder.fit(X_train['business_code'])\n",
    "X_train['business_code_enc'] = business_code_encoder.transform(X_train['business_code'])"
   ]
  },
  {
   "cell_type": "code",
   "execution_count": 48,
   "id": "b996aa5a",
   "metadata": {},
   "outputs": [],
   "source": [
    "X_val['business_code_enc'] = business_code_encoder.transform(X_val['business_code'])\n",
    "X_test['business_code_enc '] = business_code_encoder.transform(X_test['business_code'])"
   ]
  },
  {
   "cell_type": "code",
   "execution_count": 49,
   "id": "a8915de5",
   "metadata": {},
   "outputs": [],
   "source": [
    "# function to delete a column from train, val and test\n",
    "def col_remover(col ,traindf = X_train,valdf = X_val,testdf = X_test):\n",
    "    traindf.drop(col, axis =1,inplace=True)\n",
    "    valdf.drop(col,axis=1 , inplace=True)\n",
    "    testdf.drop(col,axis=1 , inplace=True)\n",
    "\n",
    "    return traindf,valdf ,testdf"
   ]
  },
  {
   "cell_type": "code",
   "execution_count": 50,
   "id": "c9f20316",
   "metadata": {},
   "outputs": [],
   "source": [
    "X_train ,X_val, X_test = col_remover(['business_code'])"
   ]
  },
  {
   "cell_type": "code",
   "execution_count": 51,
   "id": "20030d97",
   "metadata": {},
   "outputs": [
    {
     "name": "stdout",
     "output_type": "stream",
     "text": [
      "<class 'pandas.core.frame.DataFrame'>\n",
      "Int64Index: 30000 entries, 0 to 37508\n",
      "Data columns (total 16 columns):\n",
      " #   Column                  Non-Null Count  Dtype         \n",
      "---  ------                  --------------  -----         \n",
      " 0   cust_number             30000 non-null  object        \n",
      " 1   name_customer           30000 non-null  object        \n",
      " 2   clear_date              30000 non-null  datetime64[ns]\n",
      " 3   buisness_year           30000 non-null  float64       \n",
      " 4   doc_id                  30000 non-null  float64       \n",
      " 5   posting_date            30000 non-null  datetime64[ns]\n",
      " 6   document_create_date    30000 non-null  datetime64[ns]\n",
      " 7   document_create_date.1  30000 non-null  datetime64[ns]\n",
      " 8   due_in_date             30000 non-null  datetime64[ns]\n",
      " 9   invoice_currency        30000 non-null  object        \n",
      " 10  total_open_amount       30000 non-null  float64       \n",
      " 11  baseline_create_date    30000 non-null  datetime64[ns]\n",
      " 12  cust_payment_terms      30000 non-null  object        \n",
      " 13  avg_delay               30000 non-null  float64       \n",
      " 14  range                   30000 non-null  int64         \n",
      " 15  business_code_enc       30000 non-null  int32         \n",
      "dtypes: datetime64[ns](6), float64(4), int32(1), int64(1), object(4)\n",
      "memory usage: 3.8+ MB\n"
     ]
    }
   ],
   "source": [
    "X_train.info()"
   ]
  },
  {
   "cell_type": "code",
   "execution_count": 52,
   "id": "b51dc66c",
   "metadata": {},
   "outputs": [],
   "source": [
    "#label encoding business_code\n",
    "from sklearn.preprocessing import LabelEncoder\n",
    "cust_number_encoder = LabelEncoder()\n",
    "cust_number_encoder.fit(X_train['cust_number'])\n",
    "X_train['cust_enco'] = cust_number_encoder.transform(X_train['cust_number'])"
   ]
  },
  {
   "cell_type": "code",
   "execution_count": 53,
   "id": "f219b625",
   "metadata": {},
   "outputs": [],
   "source": [
    "# finding what are the new catagories in the validation set for cust_number\n",
    "diff = set(X_val['cust_number'])-set(cust_number_encoder.classes_)\n",
    "\n",
    "# adding them to the classess variable // \n",
    "for items in diff:\n",
    "    cust_number_encoder.classes_ = np.append(cust_number_encoder.classes_,items)"
   ]
  },
  {
   "cell_type": "code",
   "execution_count": 54,
   "id": "d61d5487",
   "metadata": {},
   "outputs": [],
   "source": [
    "X_val['cust_enco'] = cust_number_encoder.transform(X_val['cust_number'])"
   ]
  },
  {
   "cell_type": "code",
   "execution_count": 55,
   "id": "08878f1f",
   "metadata": {},
   "outputs": [],
   "source": [
    "#same process for test set also\n",
    "diff = set(X_test['cust_number'])-set(cust_number_encoder.classes_)\n",
    "\n",
    "# adding them to the classess variable // \n",
    "for items in diff:\n",
    "    cust_number_encoder.classes_ = np.append(cust_number_encoder.classes_,items)\n",
    "X_test['cust_enco'] = cust_number_encoder.transform(X_test['cust_number'])"
   ]
  },
  {
   "cell_type": "code",
   "execution_count": 56,
   "id": "c7c0dfca",
   "metadata": {},
   "outputs": [],
   "source": [
    "#dropping cust_payment_terms form all the set.\n",
    "X_train ,X_val, X_test = col_remover(['cust_number'])\n"
   ]
  },
  {
   "cell_type": "code",
   "execution_count": 57,
   "id": "30d4623d",
   "metadata": {},
   "outputs": [
    {
     "name": "stdout",
     "output_type": "stream",
     "text": [
      "<class 'pandas.core.frame.DataFrame'>\n",
      "Int64Index: 30000 entries, 0 to 37508\n",
      "Data columns (total 16 columns):\n",
      " #   Column                  Non-Null Count  Dtype         \n",
      "---  ------                  --------------  -----         \n",
      " 0   name_customer           30000 non-null  object        \n",
      " 1   clear_date              30000 non-null  datetime64[ns]\n",
      " 2   buisness_year           30000 non-null  float64       \n",
      " 3   doc_id                  30000 non-null  float64       \n",
      " 4   posting_date            30000 non-null  datetime64[ns]\n",
      " 5   document_create_date    30000 non-null  datetime64[ns]\n",
      " 6   document_create_date.1  30000 non-null  datetime64[ns]\n",
      " 7   due_in_date             30000 non-null  datetime64[ns]\n",
      " 8   invoice_currency        30000 non-null  object        \n",
      " 9   total_open_amount       30000 non-null  float64       \n",
      " 10  baseline_create_date    30000 non-null  datetime64[ns]\n",
      " 11  cust_payment_terms      30000 non-null  object        \n",
      " 12  avg_delay               30000 non-null  float64       \n",
      " 13  range                   30000 non-null  int64         \n",
      " 14  business_code_enc       30000 non-null  int32         \n",
      " 15  cust_enco               30000 non-null  int32         \n",
      "dtypes: datetime64[ns](6), float64(4), int32(2), int64(1), object(3)\n",
      "memory usage: 3.7+ MB\n"
     ]
    }
   ],
   "source": [
    "X_train.info()"
   ]
  },
  {
   "cell_type": "code",
   "execution_count": 58,
   "id": "41d27529",
   "metadata": {},
   "outputs": [],
   "source": [
    "#label encoding cust_payment_terms.\n",
    "#as the agreement between two company can effect the delay.\n",
    "from sklearn.preprocessing import LabelEncoder\n",
    "cust_terms_encoder = LabelEncoder()\n",
    "cust_terms_encoder.fit(X_train['cust_payment_terms'])\n",
    "X_train['cust_payment_terms_enco'] = cust_terms_encoder.transform(X_train['cust_payment_terms'])"
   ]
  },
  {
   "cell_type": "code",
   "execution_count": 59,
   "id": "55681f19",
   "metadata": {},
   "outputs": [],
   "source": [
    "# finding what are the new catagories in the validation set for cust_payment_terms\n",
    "diff = set(X_val['cust_payment_terms'])-set(cust_terms_encoder.classes_)\n",
    "\n",
    "# adding them to the classess variable // \n",
    "for items in diff:\n",
    "    cust_terms_encoder.classes_ = np.append(cust_terms_encoder.classes_,items)"
   ]
  },
  {
   "cell_type": "code",
   "execution_count": 60,
   "id": "71999eb2",
   "metadata": {},
   "outputs": [],
   "source": [
    "X_val['cust_payment_terms_enco'] = cust_terms_encoder.transform(X_val['cust_payment_terms'])"
   ]
  },
  {
   "cell_type": "code",
   "execution_count": 61,
   "id": "b59ab389",
   "metadata": {},
   "outputs": [],
   "source": [
    "#similarly for test set\n",
    "# finding what are the new catagories in the validation set for cust_payment_terms\n",
    "diff = set(X_test['cust_payment_terms'])-set(cust_terms_encoder.classes_)\n",
    "\n",
    "# adding them to the classess variable // \n",
    "for items in diff:\n",
    "    cust_terms_encoder.classes_ = np.append(cust_terms_encoder.classes_,items)"
   ]
  },
  {
   "cell_type": "code",
   "execution_count": 62,
   "id": "ce5768f5",
   "metadata": {},
   "outputs": [],
   "source": [
    "X_test['cust_payment_terms_enco'] = cust_terms_encoder.transform(X_test['cust_payment_terms'])"
   ]
  },
  {
   "cell_type": "code",
   "execution_count": 63,
   "id": "dfe840b0",
   "metadata": {},
   "outputs": [],
   "source": [
    "#dropping cust_payment_terms form all the set.\n",
    "X_train ,X_val, X_test = col_remover(['cust_payment_terms'])"
   ]
  },
  {
   "cell_type": "code",
   "execution_count": 64,
   "id": "c24fd44f",
   "metadata": {},
   "outputs": [],
   "source": [
    "#label encoding invoice_currency\n",
    "from sklearn.preprocessing import LabelEncoder\n",
    "invoice_curr_encoder = LabelEncoder()\n",
    "invoice_curr_encoder.fit(X_train['invoice_currency'])\n",
    "X_train['invoice_curr_enc'] = invoice_curr_encoder.transform(X_train['invoice_currency'])\n",
    "X_val['invoice_curr_enc'] = invoice_curr_encoder.transform(X_val['invoice_currency'])\n",
    "X_test['invoice_curr_enc'] = invoice_curr_encoder.transform(X_test['invoice_currency'])\n",
    "\n",
    "#removing invoice_curr column\n",
    "X_train ,X_val, X_test = col_remover(['invoice_currency'])"
   ]
  },
  {
   "cell_type": "code",
   "execution_count": 65,
   "id": "d0e3570c",
   "metadata": {},
   "outputs": [],
   "source": [
    "# wrote a custom function to do a status check  on all the dataframes \n",
    "def sets_status(traindf = X_train,valdf = X_val,testdf = X_test):\n",
    "    print(traindf.info())\n",
    "    print(\"****************************\")\n",
    "    print(traindf.shape,valdf.shape,testdf.shape)\n",
    "    print(\"************Train Null Count****************\")\n",
    "    print(traindf.isna().sum())\n",
    "    print(\"************Test Null Count ****************\")\n",
    "    print(testdf.isna().sum())    \n",
    "    print(\"************Val Null Count ****************\")\n",
    "    print(valdf.isna().sum())"
   ]
  },
  {
   "cell_type": "code",
   "execution_count": 66,
   "id": "22b87bad",
   "metadata": {},
   "outputs": [
    {
     "name": "stdout",
     "output_type": "stream",
     "text": [
      "<class 'pandas.core.frame.DataFrame'>\n",
      "Int64Index: 30000 entries, 0 to 37508\n",
      "Data columns (total 16 columns):\n",
      " #   Column                   Non-Null Count  Dtype         \n",
      "---  ------                   --------------  -----         \n",
      " 0   name_customer            30000 non-null  object        \n",
      " 1   clear_date               30000 non-null  datetime64[ns]\n",
      " 2   buisness_year            30000 non-null  float64       \n",
      " 3   doc_id                   30000 non-null  float64       \n",
      " 4   posting_date             30000 non-null  datetime64[ns]\n",
      " 5   document_create_date     30000 non-null  datetime64[ns]\n",
      " 6   document_create_date.1   30000 non-null  datetime64[ns]\n",
      " 7   due_in_date              30000 non-null  datetime64[ns]\n",
      " 8   total_open_amount        30000 non-null  float64       \n",
      " 9   baseline_create_date     30000 non-null  datetime64[ns]\n",
      " 10  avg_delay                30000 non-null  float64       \n",
      " 11  range                    30000 non-null  int64         \n",
      " 12  business_code_enc        30000 non-null  int32         \n",
      " 13  cust_enco                30000 non-null  int32         \n",
      " 14  cust_payment_terms_enco  30000 non-null  int32         \n",
      " 15  invoice_curr_enc         30000 non-null  int32         \n",
      "dtypes: datetime64[ns](6), float64(4), int32(4), int64(1), object(1)\n",
      "memory usage: 3.4+ MB\n",
      "None\n",
      "****************************\n",
      "(30000, 16) (5000, 15) (5000, 15)\n",
      "************Train Null Count****************\n",
      "name_customer              0\n",
      "clear_date                 0\n",
      "buisness_year              0\n",
      "doc_id                     0\n",
      "posting_date               0\n",
      "document_create_date       0\n",
      "document_create_date.1     0\n",
      "due_in_date                0\n",
      "total_open_amount          0\n",
      "baseline_create_date       0\n",
      "avg_delay                  0\n",
      "range                      0\n",
      "business_code_enc          0\n",
      "cust_enco                  0\n",
      "cust_payment_terms_enco    0\n",
      "invoice_curr_enc           0\n",
      "dtype: int64\n",
      "************Test Null Count ****************\n",
      "name_customer              0\n",
      "clear_date                 0\n",
      "buisness_year              0\n",
      "doc_id                     0\n",
      "posting_date               0\n",
      "document_create_date       0\n",
      "document_create_date.1     0\n",
      "due_in_date                0\n",
      "total_open_amount          0\n",
      "baseline_create_date       0\n",
      "avg_delay                  0\n",
      "business_code_enc          0\n",
      "cust_enco                  0\n",
      "cust_payment_terms_enco    0\n",
      "invoice_curr_enc           0\n",
      "dtype: int64\n",
      "************Val Null Count ****************\n",
      "name_customer              0\n",
      "clear_date                 0\n",
      "buisness_year              0\n",
      "doc_id                     0\n",
      "posting_date               0\n",
      "document_create_date       0\n",
      "document_create_date.1     0\n",
      "due_in_date                0\n",
      "total_open_amount          0\n",
      "baseline_create_date       0\n",
      "avg_delay                  0\n",
      "business_code_enc          0\n",
      "cust_enco                  0\n",
      "cust_payment_terms_enco    0\n",
      "invoice_curr_enc           0\n",
      "dtype: int64\n"
     ]
    }
   ],
   "source": [
    "sets_status()"
   ]
  },
  {
   "cell_type": "code",
   "execution_count": 67,
   "id": "038852ff",
   "metadata": {},
   "outputs": [],
   "source": [
    "#Extracting features form date columns.\n",
    "#extract day,month and year \n",
    "#for _baseline_create_date ----->>> date on which invoice was genrated.\n",
    "\n",
    "X_train['day_of_invoice_crea'] = X_train['baseline_create_date'].dt.day\n",
    "X_train['month_of_invoice_crea'] = X_train['baseline_create_date'].dt.month\n",
    "\n",
    "\n",
    "X_val['day_of_invoice_crea'] = X_val['baseline_create_date'].dt.day\n",
    "X_val['month_of_invoice_crea'] = X_val['baseline_create_date'].dt.month\n",
    "\n",
    "\n",
    "\n",
    "X_test['day_of_invoice_crea'] = X_test['baseline_create_date'].dt.day\n",
    "X_test['month_of_invoice_crea'] = X_test['baseline_create_date'].dt.month\n"
   ]
  },
  {
   "cell_type": "code",
   "execution_count": 68,
   "id": "251ba970",
   "metadata": {},
   "outputs": [],
   "source": [
    "#for clear_date ----->>> date on which payment was cleared by company.\n",
    "\n",
    "X_train['day_of_clear_date'] = X_train['clear_date'].dt.day\n",
    "X_train['month_of_clear_date'] = X_train['clear_date'].dt.month\n",
    "\n",
    "\n",
    "X_val['day_of_clear_date'] = X_val['clear_date'].dt.day\n",
    "X_val['month_of_clear_date'] = X_val['clear_date'].dt.month\n",
    "\n",
    "\n",
    "\n",
    "X_test['day_of_clear_date'] = X_test['clear_date'].dt.day\n",
    "X_test['month_of_clear_date'] = X_test['clear_date'].dt.month"
   ]
  },
  {
   "cell_type": "code",
   "execution_count": 69,
   "id": "6848cf67",
   "metadata": {},
   "outputs": [],
   "source": [
    "#for due_in_date ----->>>  payment duedate \n",
    "X_train['day_of_due_in_date'] = X_train['due_in_date'].dt.day\n",
    "X_train['month_of_due_in_date'] = X_train['due_in_date'].dt.month\n",
    "\n",
    "\n",
    "X_val['day_of_due_in_date'] = X_val['due_in_date'].dt.day\n",
    "X_val['month_of_due_in_date'] = X_val['due_in_date'].dt.month\n",
    "\n",
    "\n",
    "\n",
    "X_test['day_of_due_in_date'] = X_test['due_in_date'].dt.day\n",
    "X_test['month_of_due_in_date'] = X_test['due_in_date'].dt.month"
   ]
  },
  {
   "cell_type": "code",
   "execution_count": 70,
   "id": "3bf80566",
   "metadata": {},
   "outputs": [],
   "source": [
    "#for posting_date ----->>>  date on which payment term started. \n",
    "X_train['day_of_posting_date'] = X_train['posting_date'].dt.day\n",
    "X_train['month_of_posting_date'] = X_train['posting_date'].dt.month\n",
    "\n",
    "\n",
    "X_val['day_of_posting_date'] = X_val['posting_date'].dt.day\n",
    "X_val['month_of_posting_date'] = X_val['posting_date'].dt.month\n",
    "\n",
    "\n",
    "\n",
    "X_test['day_of_posting_date'] = X_test['posting_date'].dt.day\n",
    "X_test['month_of_posting_date'] = X_test['posting_date'].dt.month"
   ]
  },
  {
   "cell_type": "code",
   "execution_count": 71,
   "id": "06f84961",
   "metadata": {},
   "outputs": [],
   "source": [
    "#for document_create_date ----->>>  date on which invoice document was created.\n",
    "# we will use document_create_date.1 as we seen before converting them to datetime\n",
    "#there was 98% corelation between this date and document_create_date \n",
    "X_train['day_of_doc_create_date'] = X_train['document_create_date.1'].dt.day\n",
    "X_train['month_of_doc_create_date'] = X_train['document_create_date.1'].dt.month\n",
    "\n",
    "\n",
    "X_val['day_of_doc_create_date'] = X_val['document_create_date.1'].dt.day\n",
    "X_val['month_of_doc_create_date'] = X_val['document_create_date.1'].dt.month\n",
    "\n",
    "\n",
    "\n",
    "X_test['day_of_doc_create_date'] = X_test['document_create_date.1'].dt.day\n",
    "X_test['month_of_doc_create_date'] = X_test['document_create_date.1'].dt.month"
   ]
  },
  {
   "cell_type": "code",
   "execution_count": 72,
   "id": "706d1e3d",
   "metadata": {},
   "outputs": [],
   "source": [
    "# droping date time columns after feature extracting from them\n",
    "X_train ,X_val, X_test =col_remover(['baseline_create_date'])\n",
    "X_train ,X_val, X_test =col_remover(['clear_date'])\n",
    "X_train ,X_val, X_test =col_remover(['due_in_date'])\n",
    "X_train ,X_val, X_test =col_remover(['posting_date'])\n",
    "X_train ,X_val, X_test =col_remover(['document_create_date.1'])"
   ]
  },
  {
   "cell_type": "code",
   "execution_count": 73,
   "id": "d98ba1a8",
   "metadata": {},
   "outputs": [
    {
     "name": "stdout",
     "output_type": "stream",
     "text": [
      "<class 'pandas.core.frame.DataFrame'>\n",
      "Int64Index: 30000 entries, 0 to 37508\n",
      "Data columns (total 21 columns):\n",
      " #   Column                    Non-Null Count  Dtype         \n",
      "---  ------                    --------------  -----         \n",
      " 0   name_customer             30000 non-null  object        \n",
      " 1   buisness_year             30000 non-null  float64       \n",
      " 2   doc_id                    30000 non-null  float64       \n",
      " 3   document_create_date      30000 non-null  datetime64[ns]\n",
      " 4   total_open_amount         30000 non-null  float64       \n",
      " 5   avg_delay                 30000 non-null  float64       \n",
      " 6   range                     30000 non-null  int64         \n",
      " 7   business_code_enc         30000 non-null  int32         \n",
      " 8   cust_enco                 30000 non-null  int32         \n",
      " 9   cust_payment_terms_enco   30000 non-null  int32         \n",
      " 10  invoice_curr_enc          30000 non-null  int32         \n",
      " 11  day_of_invoice_crea       30000 non-null  int64         \n",
      " 12  month_of_invoice_crea     30000 non-null  int64         \n",
      " 13  day_of_clear_date         30000 non-null  int64         \n",
      " 14  month_of_clear_date       30000 non-null  int64         \n",
      " 15  day_of_due_in_date        30000 non-null  int64         \n",
      " 16  month_of_due_in_date      30000 non-null  int64         \n",
      " 17  day_of_posting_date       30000 non-null  int64         \n",
      " 18  month_of_posting_date     30000 non-null  int64         \n",
      " 19  day_of_doc_create_date    30000 non-null  int64         \n",
      " 20  month_of_doc_create_date  30000 non-null  int64         \n",
      "dtypes: datetime64[ns](1), float64(4), int32(4), int64(11), object(1)\n",
      "memory usage: 4.6+ MB\n",
      "None\n",
      "****************************\n",
      "(30000, 21) (5000, 20) (5000, 20)\n",
      "************Train Null Count****************\n",
      "name_customer               0\n",
      "buisness_year               0\n",
      "doc_id                      0\n",
      "document_create_date        0\n",
      "total_open_amount           0\n",
      "avg_delay                   0\n",
      "range                       0\n",
      "business_code_enc           0\n",
      "cust_enco                   0\n",
      "cust_payment_terms_enco     0\n",
      "invoice_curr_enc            0\n",
      "day_of_invoice_crea         0\n",
      "month_of_invoice_crea       0\n",
      "day_of_clear_date           0\n",
      "month_of_clear_date         0\n",
      "day_of_due_in_date          0\n",
      "month_of_due_in_date        0\n",
      "day_of_posting_date         0\n",
      "month_of_posting_date       0\n",
      "day_of_doc_create_date      0\n",
      "month_of_doc_create_date    0\n",
      "dtype: int64\n",
      "************Test Null Count ****************\n",
      "name_customer               0\n",
      "buisness_year               0\n",
      "doc_id                      0\n",
      "document_create_date        0\n",
      "total_open_amount           0\n",
      "avg_delay                   0\n",
      "business_code_enc           0\n",
      "cust_enco                   0\n",
      "cust_payment_terms_enco     0\n",
      "invoice_curr_enc            0\n",
      "day_of_invoice_crea         0\n",
      "month_of_invoice_crea       0\n",
      "day_of_clear_date           0\n",
      "month_of_clear_date         0\n",
      "day_of_due_in_date          0\n",
      "month_of_due_in_date        0\n",
      "day_of_posting_date         0\n",
      "month_of_posting_date       0\n",
      "day_of_doc_create_date      0\n",
      "month_of_doc_create_date    0\n",
      "dtype: int64\n",
      "************Val Null Count ****************\n",
      "name_customer               0\n",
      "buisness_year               0\n",
      "doc_id                      0\n",
      "document_create_date        0\n",
      "total_open_amount           0\n",
      "avg_delay                   0\n",
      "business_code_enc           0\n",
      "cust_enco                   0\n",
      "cust_payment_terms_enco     0\n",
      "invoice_curr_enc            0\n",
      "day_of_invoice_crea         0\n",
      "month_of_invoice_crea       0\n",
      "day_of_clear_date           0\n",
      "month_of_clear_date         0\n",
      "day_of_due_in_date          0\n",
      "month_of_due_in_date        0\n",
      "day_of_posting_date         0\n",
      "month_of_posting_date       0\n",
      "day_of_doc_create_date      0\n",
      "month_of_doc_create_date    0\n",
      "dtype: int64\n"
     ]
    }
   ],
   "source": [
    "sets_status()"
   ]
  },
  {
   "cell_type": "code",
   "execution_count": 74,
   "id": "e3fcdade",
   "metadata": {},
   "outputs": [
    {
     "data": {
      "text/plain": [
       "<AxesSubplot:>"
      ]
     },
     "execution_count": 74,
     "metadata": {},
     "output_type": "execute_result"
    },
    {
     "data": {
      "image/png": "[encoded data removed]",
      "text/plain": [
       "<Figure size 864x648 with 2 Axes>"
      ]
     },
     "metadata": {
      "needs_background": "light"
     },
     "output_type": "display_data"
    }
   ],
   "source": [
    "#Feature Selection\n",
    "\n",
    "corrmat = X_train.merge(y_train , on = X_train.index).corr()\n",
    "plt.subplots(figsize=(12,9))\n",
    "sns.heatmap(corrmat, vmax=0.9, square=True)"
   ]
  },
  {
   "cell_type": "code",
   "execution_count": 75,
   "id": "79105ab8",
   "metadata": {},
   "outputs": [
    {
     "data": {
      "text/plain": [
       "<AxesSubplot:title={'center':'Pearson Correlation of Features'}>"
      ]
     },
     "execution_count": 75,
     "metadata": {},
     "output_type": "execute_result"
    },
    {
     "data": {
      "image/png": "[encoded data removed]",
      "text/plain": [
       "<Figure size 1008x864 with 2 Axes>"
      ]
     },
     "metadata": {
      "needs_background": "light"
     },
     "output_type": "display_data"
    }
   ],
   "source": [
    "colormap = plt.cm.RdBu\n",
    "plt.figure(figsize=(14,12))\n",
    "plt.title('Pearson Correlation of Features', y=1.05, size=15)\n",
    "sns.heatmap(X_train.merge(y_train , on = X_train.index ).corr(),linewidths=0.1,vmax=1.0, \n",
    "            square=True, cmap=colormap, linecolor='white', annot=True)"
   ]
  },
  {
   "cell_type": "code",
   "execution_count": 76,
   "id": "a42d8c44",
   "metadata": {},
   "outputs": [],
   "source": [
    "#we can drop doc_id as it is unique for each row and cust_name \n",
    "#and use  cust_number_enc as our identifier.\n",
    "X_train ,X_val, X_test =col_remover(['name_customer'])\n",
    "X_train ,X_val, X_test =col_remover(['doc_id'])\n",
    "X_train ,X_val, X_test =col_remover(['buisness_year'])\n"
   ]
  },
  {
   "cell_type": "code",
   "execution_count": 77,
   "id": "6229a6b1",
   "metadata": {},
   "outputs": [],
   "source": [
    "X_train.drop('range',axis=1,inplace=True)"
   ]
  },
  {
   "cell_type": "code",
   "execution_count": 81,
   "id": "d4ae0a8b",
   "metadata": {},
   "outputs": [
    {
     "name": "stdout",
     "output_type": "stream",
     "text": [
      "<class 'pandas.core.frame.DataFrame'>\n",
      "Int64Index: 30000 entries, 0 to 37508\n",
      "Data columns (total 16 columns):\n",
      " #   Column                    Non-Null Count  Dtype  \n",
      "---  ------                    --------------  -----  \n",
      " 0   total_open_amount         30000 non-null  float64\n",
      " 1   avg_delay                 30000 non-null  float64\n",
      " 2   business_code_enc         30000 non-null  int32  \n",
      " 3   cust_enco                 30000 non-null  int32  \n",
      " 4   cust_payment_terms_enco   30000 non-null  int32  \n",
      " 5   invoice_curr_enc          30000 non-null  int32  \n",
      " 6   day_of_invoice_crea       30000 non-null  int64  \n",
      " 7   month_of_invoice_crea     30000 non-null  int64  \n",
      " 8   day_of_clear_date         30000 non-null  int64  \n",
      " 9   month_of_clear_date       30000 non-null  int64  \n",
      " 10  day_of_due_in_date        30000 non-null  int64  \n",
      " 11  month_of_due_in_date      30000 non-null  int64  \n",
      " 12  day_of_posting_date       30000 non-null  int64  \n",
      " 13  month_of_posting_date     30000 non-null  int64  \n",
      " 14  day_of_doc_create_date    30000 non-null  int64  \n",
      " 15  month_of_doc_create_date  30000 non-null  int64  \n",
      "dtypes: float64(2), int32(4), int64(10)\n",
      "memory usage: 3.4 MB\n",
      "None\n",
      "****************************\n",
      "(30000, 16) (5000, 16) (5000, 16)\n",
      "************Train Null Count****************\n",
      "total_open_amount           0\n",
      "avg_delay                   0\n",
      "business_code_enc           0\n",
      "cust_enco                   0\n",
      "cust_payment_terms_enco     0\n",
      "invoice_curr_enc            0\n",
      "day_of_invoice_crea         0\n",
      "month_of_invoice_crea       0\n",
      "day_of_clear_date           0\n",
      "month_of_clear_date         0\n",
      "day_of_due_in_date          0\n",
      "month_of_due_in_date        0\n",
      "day_of_posting_date         0\n",
      "month_of_posting_date       0\n",
      "day_of_doc_create_date      0\n",
      "month_of_doc_create_date    0\n",
      "dtype: int64\n",
      "************Test Null Count ****************\n",
      "total_open_amount           0\n",
      "avg_delay                   0\n",
      "business_code_enc           0\n",
      "cust_enco                   0\n",
      "cust_payment_terms_enco     0\n",
      "invoice_curr_enc            0\n",
      "day_of_invoice_crea         0\n",
      "month_of_invoice_crea       0\n",
      "day_of_clear_date           0\n",
      "month_of_clear_date         0\n",
      "day_of_due_in_date          0\n",
      "month_of_due_in_date        0\n",
      "day_of_posting_date         0\n",
      "month_of_posting_date       0\n",
      "day_of_doc_create_date      0\n",
      "month_of_doc_create_date    0\n",
      "dtype: int64\n",
      "************Val Null Count ****************\n",
      "total_open_amount           0\n",
      "avg_delay                   0\n",
      "business_code_enc           0\n",
      "cust_enco                   0\n",
      "cust_payment_terms_enco     0\n",
      "invoice_curr_enc            0\n",
      "day_of_invoice_crea         0\n",
      "month_of_invoice_crea       0\n",
      "day_of_clear_date           0\n",
      "month_of_clear_date         0\n",
      "day_of_due_in_date          0\n",
      "month_of_due_in_date        0\n",
      "day_of_posting_date         0\n",
      "month_of_posting_date       0\n",
      "day_of_doc_create_date      0\n",
      "month_of_doc_create_date    0\n",
      "dtype: int64\n"
     ]
    }
   ],
   "source": [
    "sets_status()"
   ]
  },
  {
   "cell_type": "markdown",
   "id": "48024977",
   "metadata": {},
   "source": [
    "# Base Modelling\n",
    "# Regression Model\n"
   ]
  },
  {
   "cell_type": "code",
   "execution_count": 82,
   "id": "988c3d42",
   "metadata": {},
   "outputs": [
    {
     "data": {
      "text/plain": [
       "LinearRegression()"
      ]
     },
     "execution_count": 82,
     "metadata": {},
     "output_type": "execute_result"
    }
   ],
   "source": [
    "from sklearn.linear_model import LinearRegression\n",
    "base_model = LinearRegression()\n",
    "base_model.fit(X_train, y_train)"
   ]
  },
  {
   "cell_type": "code",
   "execution_count": 83,
   "id": "bfd99039",
   "metadata": {},
   "outputs": [],
   "source": [
    "y_predict = base_model.predict(X_val)"
   ]
  },
  {
   "cell_type": "code",
   "execution_count": 84,
   "id": "fbf389ad",
   "metadata": {},
   "outputs": [
    {
     "data": {
      "text/plain": [
       "6.042699038272092"
      ]
     },
     "execution_count": 84,
     "metadata": {},
     "output_type": "execute_result"
    }
   ],
   "source": [
    "from sklearn.metrics import mean_squared_error\n",
    "\n",
    "mean_squared_error(y_val, y_predict, squared=False)"
   ]
  },
  {
   "cell_type": "markdown",
   "id": "75da0cf4",
   "metadata": {},
   "source": [
    "# Tree Model"
   ]
  },
  {
   "cell_type": "code",
   "execution_count": 85,
   "id": "3868fdcb",
   "metadata": {},
   "outputs": [],
   "source": [
    "from sklearn.tree import DecisionTreeRegressor\n",
    "from sklearn.metrics import r2_score\n",
    "\n",
    "regressor = DecisionTreeRegressor(random_state=0 , max_depth=5)"
   ]
  },
  {
   "cell_type": "code",
   "execution_count": 86,
   "id": "2b350603",
   "metadata": {},
   "outputs": [
    {
     "data": {
      "text/plain": [
       "DecisionTreeRegressor(max_depth=5, random_state=0)"
      ]
     },
     "execution_count": 86,
     "metadata": {},
     "output_type": "execute_result"
    }
   ],
   "source": [
    "regressor.fit(X_train, y_train)"
   ]
  },
  {
   "cell_type": "code",
   "execution_count": 87,
   "id": "cf535683",
   "metadata": {},
   "outputs": [],
   "source": [
    "y_predict2 = regressor.predict(X_val)"
   ]
  },
  {
   "cell_type": "code",
   "execution_count": 88,
   "id": "29f2151d",
   "metadata": {},
   "outputs": [
    {
     "data": {
      "text/plain": [
       "6.391181202459633"
      ]
     },
     "execution_count": 88,
     "metadata": {},
     "output_type": "execute_result"
    }
   ],
   "source": [
    "from sklearn.metrics import mean_squared_error\n",
    "mean_squared_error(y_val, y_predict2, squared=False)"
   ]
  },
  {
   "cell_type": "markdown",
   "id": "b2faa974",
   "metadata": {},
   "source": [
    "# Random Forest Regressor"
   ]
  },
  {
   "cell_type": "code",
   "execution_count": 89,
   "id": "d49fc8ad",
   "metadata": {},
   "outputs": [],
   "source": [
    "from sklearn.ensemble import RandomForestRegressor\n",
    "randomforestmodel = RandomForestRegressor()\n",
    "randomforestmodel.fit(X_train, y_train)\n",
    "\n",
    "# Predicting the Test Set Results\n",
    "y_predict3 = randomforestmodel.predict(X_val)"
   ]
  },
  {
   "cell_type": "code",
   "execution_count": 90,
   "id": "5175adb0",
   "metadata": {},
   "outputs": [
    {
     "name": "stdout",
     "output_type": "stream",
     "text": [
      "26.91903622 0.7437908303821155\n"
     ]
    }
   ],
   "source": [
    "#Scores of Random forest\n",
    "mean_squared_error(y_val, y_predict3)\n",
    "r2_score(y_val, y_predict3)\n",
    "print(mean_squared_error(y_val, y_predict3),r2_score(y_val, y_predict3))"
   ]
  },
  {
   "cell_type": "markdown",
   "id": "d23cf07e",
   "metadata": {},
   "source": [
    "# using Linear Regression model to test on our local test."
   ]
  },
  {
   "cell_type": "code",
   "execution_count": 91,
   "id": "967bb1e2",
   "metadata": {},
   "outputs": [
    {
     "data": {
      "text/plain": [
       "6.572794254074159"
      ]
     },
     "execution_count": 91,
     "metadata": {},
     "output_type": "execute_result"
    }
   ],
   "source": [
    "y_predict_test = base_model.predict(X_test)\n",
    "mean_squared_error(y_test, y_predict_test, squared=False)"
   ]
  },
  {
   "cell_type": "markdown",
   "id": "42715956",
   "metadata": {},
   "source": [
    "Test_data"
   ]
  },
  {
   "cell_type": "code",
   "execution_count": 92,
   "id": "4a1df3f1",
   "metadata": {},
   "outputs": [
    {
     "data": {
      "text/html": [
       "<div>\n",
       "<style scoped>\n",
       "    .dataframe tbody tr th:only-of-type {\n",
       "        vertical-align: middle;\n",
       "    }\n",
       "\n",
       "    .dataframe tbody tr th {\n",
       "        vertical-align: top;\n",
       "    }\n",
       "\n",
       "    .dataframe thead th {\n",
       "        text-align: right;\n",
       "    }\n",
       "</style>\n",
       "<table border=\"1\" class=\"dataframe\">\n",
       "  <thead>\n",
       "    <tr style=\"text-align: right;\">\n",
       "      <th></th>\n",
       "      <th>business_code</th>\n",
       "      <th>cust_number</th>\n",
       "      <th>name_customer</th>\n",
       "      <th>clear_date</th>\n",
       "      <th>buisness_year</th>\n",
       "      <th>doc_id</th>\n",
       "      <th>posting_date</th>\n",
       "      <th>document_create_date</th>\n",
       "      <th>document_create_date.1</th>\n",
       "      <th>due_in_date</th>\n",
       "      <th>invoice_currency</th>\n",
       "      <th>document type</th>\n",
       "      <th>posting_id</th>\n",
       "      <th>area_business</th>\n",
       "      <th>total_open_amount</th>\n",
       "      <th>baseline_create_date</th>\n",
       "      <th>cust_payment_terms</th>\n",
       "      <th>invoice_id</th>\n",
       "      <th>isOpen</th>\n",
       "    </tr>\n",
       "  </thead>\n",
       "  <tbody>\n",
       "    <tr>\n",
       "      <th>5</th>\n",
       "      <td>U001</td>\n",
       "      <td>0200769623</td>\n",
       "      <td>WAL-MAR us</td>\n",
       "      <td>NaN</td>\n",
       "      <td>2020.0</td>\n",
       "      <td>1.930716e+09</td>\n",
       "      <td>2020-03-30</td>\n",
       "      <td>20200328</td>\n",
       "      <td>20200330</td>\n",
       "      <td>20200414.0</td>\n",
       "      <td>USD</td>\n",
       "      <td>RV</td>\n",
       "      <td>1.0</td>\n",
       "      <td>NaN</td>\n",
       "      <td>12898.09</td>\n",
       "      <td>20200330.0</td>\n",
       "      <td>NAH4</td>\n",
       "      <td>1.930716e+09</td>\n",
       "      <td>1</td>\n",
       "    </tr>\n",
       "    <tr>\n",
       "      <th>6</th>\n",
       "      <td>CA02</td>\n",
       "      <td>0140106408</td>\n",
       "      <td>WAL-M</td>\n",
       "      <td>NaN</td>\n",
       "      <td>2020.0</td>\n",
       "      <td>2.960627e+09</td>\n",
       "      <td>2020-04-07</td>\n",
       "      <td>20200407</td>\n",
       "      <td>20200407</td>\n",
       "      <td>20200417.0</td>\n",
       "      <td>CAD</td>\n",
       "      <td>RV</td>\n",
       "      <td>1.0</td>\n",
       "      <td>NaN</td>\n",
       "      <td>2799.23</td>\n",
       "      <td>20200407.0</td>\n",
       "      <td>CA10</td>\n",
       "      <td>2.960627e+09</td>\n",
       "      <td>1</td>\n",
       "    </tr>\n",
       "    <tr>\n",
       "      <th>10</th>\n",
       "      <td>U001</td>\n",
       "      <td>0200743996</td>\n",
       "      <td>STATER  associates</td>\n",
       "      <td>NaN</td>\n",
       "      <td>2020.0</td>\n",
       "      <td>1.930752e+09</td>\n",
       "      <td>2020-04-07</td>\n",
       "      <td>20200405</td>\n",
       "      <td>20200407</td>\n",
       "      <td>20200422.0</td>\n",
       "      <td>USD</td>\n",
       "      <td>RV</td>\n",
       "      <td>1.0</td>\n",
       "      <td>NaN</td>\n",
       "      <td>56972.23</td>\n",
       "      <td>20200407.0</td>\n",
       "      <td>NAA8</td>\n",
       "      <td>1.930752e+09</td>\n",
       "      <td>1</td>\n",
       "    </tr>\n",
       "    <tr>\n",
       "      <th>15</th>\n",
       "      <td>U001</td>\n",
       "      <td>0200769623</td>\n",
       "      <td>WAL-MAR corporation</td>\n",
       "      <td>NaN</td>\n",
       "      <td>2020.0</td>\n",
       "      <td>1.930829e+09</td>\n",
       "      <td>2020-04-27</td>\n",
       "      <td>20200426</td>\n",
       "      <td>20200427</td>\n",
       "      <td>20200512.0</td>\n",
       "      <td>USD</td>\n",
       "      <td>RV</td>\n",
       "      <td>1.0</td>\n",
       "      <td>NaN</td>\n",
       "      <td>8105.17</td>\n",
       "      <td>20200427.0</td>\n",
       "      <td>NAH4</td>\n",
       "      <td>1.930829e+09</td>\n",
       "      <td>1</td>\n",
       "    </tr>\n",
       "    <tr>\n",
       "      <th>16</th>\n",
       "      <td>U001</td>\n",
       "      <td>0200707822</td>\n",
       "      <td>PUBLI in</td>\n",
       "      <td>NaN</td>\n",
       "      <td>2020.0</td>\n",
       "      <td>1.930769e+09</td>\n",
       "      <td>2020-04-09</td>\n",
       "      <td>20200409</td>\n",
       "      <td>20200409</td>\n",
       "      <td>20200424.0</td>\n",
       "      <td>USD</td>\n",
       "      <td>RV</td>\n",
       "      <td>1.0</td>\n",
       "      <td>NaN</td>\n",
       "      <td>34696.11</td>\n",
       "      <td>20200409.0</td>\n",
       "      <td>NAA8</td>\n",
       "      <td>1.930769e+09</td>\n",
       "      <td>1</td>\n",
       "    </tr>\n",
       "    <tr>\n",
       "      <th>...</th>\n",
       "      <td>...</td>\n",
       "      <td>...</td>\n",
       "      <td>...</td>\n",
       "      <td>...</td>\n",
       "      <td>...</td>\n",
       "      <td>...</td>\n",
       "      <td>...</td>\n",
       "      <td>...</td>\n",
       "      <td>...</td>\n",
       "      <td>...</td>\n",
       "      <td>...</td>\n",
       "      <td>...</td>\n",
       "      <td>...</td>\n",
       "      <td>...</td>\n",
       "      <td>...</td>\n",
       "      <td>...</td>\n",
       "      <td>...</td>\n",
       "      <td>...</td>\n",
       "      <td>...</td>\n",
       "    </tr>\n",
       "    <tr>\n",
       "      <th>49944</th>\n",
       "      <td>U001</td>\n",
       "      <td>0200790107</td>\n",
       "      <td>ROU in</td>\n",
       "      <td>NaN</td>\n",
       "      <td>2020.0</td>\n",
       "      <td>1.930660e+09</td>\n",
       "      <td>2020-03-17</td>\n",
       "      <td>20200317</td>\n",
       "      <td>20200317</td>\n",
       "      <td>20200401.0</td>\n",
       "      <td>USD</td>\n",
       "      <td>RV</td>\n",
       "      <td>1.0</td>\n",
       "      <td>NaN</td>\n",
       "      <td>42958.34</td>\n",
       "      <td>20200317.0</td>\n",
       "      <td>NAC6</td>\n",
       "      <td>1.930660e+09</td>\n",
       "      <td>1</td>\n",
       "    </tr>\n",
       "    <tr>\n",
       "      <th>49957</th>\n",
       "      <td>U001</td>\n",
       "      <td>0200769623</td>\n",
       "      <td>WAL-MAR co</td>\n",
       "      <td>NaN</td>\n",
       "      <td>2020.0</td>\n",
       "      <td>1.930593e+09</td>\n",
       "      <td>2020-03-03</td>\n",
       "      <td>20200302</td>\n",
       "      <td>20200303</td>\n",
       "      <td>20200318.0</td>\n",
       "      <td>USD</td>\n",
       "      <td>RV</td>\n",
       "      <td>1.0</td>\n",
       "      <td>NaN</td>\n",
       "      <td>26545.42</td>\n",
       "      <td>20200303.0</td>\n",
       "      <td>NAH4</td>\n",
       "      <td>1.930593e+09</td>\n",
       "      <td>1</td>\n",
       "    </tr>\n",
       "    <tr>\n",
       "      <th>49958</th>\n",
       "      <td>U001</td>\n",
       "      <td>0200435191</td>\n",
       "      <td>C&amp; co</td>\n",
       "      <td>NaN</td>\n",
       "      <td>2020.0</td>\n",
       "      <td>1.930705e+09</td>\n",
       "      <td>2020-03-27</td>\n",
       "      <td>20200326</td>\n",
       "      <td>20200327</td>\n",
       "      <td>20200411.0</td>\n",
       "      <td>USD</td>\n",
       "      <td>RV</td>\n",
       "      <td>1.0</td>\n",
       "      <td>NaN</td>\n",
       "      <td>2050.47</td>\n",
       "      <td>20200327.0</td>\n",
       "      <td>NAC6</td>\n",
       "      <td>1.930705e+09</td>\n",
       "      <td>1</td>\n",
       "    </tr>\n",
       "    <tr>\n",
       "      <th>49971</th>\n",
       "      <td>U001</td>\n",
       "      <td>0200697207</td>\n",
       "      <td>WA llc</td>\n",
       "      <td>NaN</td>\n",
       "      <td>2020.0</td>\n",
       "      <td>1.930872e+09</td>\n",
       "      <td>2020-05-07</td>\n",
       "      <td>20200506</td>\n",
       "      <td>20200507</td>\n",
       "      <td>20200522.0</td>\n",
       "      <td>USD</td>\n",
       "      <td>RV</td>\n",
       "      <td>1.0</td>\n",
       "      <td>NaN</td>\n",
       "      <td>41159.01</td>\n",
       "      <td>20200507.0</td>\n",
       "      <td>NAA8</td>\n",
       "      <td>1.930872e+09</td>\n",
       "      <td>1</td>\n",
       "    </tr>\n",
       "    <tr>\n",
       "      <th>49975</th>\n",
       "      <td>U001</td>\n",
       "      <td>0200797984</td>\n",
       "      <td>PIGGLY</td>\n",
       "      <td>NaN</td>\n",
       "      <td>2020.0</td>\n",
       "      <td>1.930760e+09</td>\n",
       "      <td>2020-04-09</td>\n",
       "      <td>20200407</td>\n",
       "      <td>20200409</td>\n",
       "      <td>20200424.0</td>\n",
       "      <td>USD</td>\n",
       "      <td>RV</td>\n",
       "      <td>1.0</td>\n",
       "      <td>NaN</td>\n",
       "      <td>70220.92</td>\n",
       "      <td>20200409.0</td>\n",
       "      <td>NAA8</td>\n",
       "      <td>1.930760e+09</td>\n",
       "      <td>1</td>\n",
       "    </tr>\n",
       "  </tbody>\n",
       "</table>\n",
       "<p>10000 rows × 19 columns</p>\n",
       "</div>"
      ],
      "text/plain": [
       "      business_code cust_number        name_customer clear_date  \\\n",
       "5              U001  0200769623           WAL-MAR us        NaN   \n",
       "6              CA02  0140106408               WAL-M         NaN   \n",
       "10             U001  0200743996   STATER  associates        NaN   \n",
       "15             U001  0200769623  WAL-MAR corporation        NaN   \n",
       "16             U001  0200707822             PUBLI in        NaN   \n",
       "...             ...         ...                  ...        ...   \n",
       "49944          U001  0200790107               ROU in        NaN   \n",
       "49957          U001  0200769623           WAL-MAR co        NaN   \n",
       "49958          U001  0200435191                C& co        NaN   \n",
       "49971          U001  0200697207               WA llc        NaN   \n",
       "49975          U001  0200797984              PIGGLY         NaN   \n",
       "\n",
       "       buisness_year        doc_id posting_date  document_create_date  \\\n",
       "5             2020.0  1.930716e+09   2020-03-30              20200328   \n",
       "6             2020.0  2.960627e+09   2020-04-07              20200407   \n",
       "10            2020.0  1.930752e+09   2020-04-07              20200405   \n",
       "15            2020.0  1.930829e+09   2020-04-27              20200426   \n",
       "16            2020.0  1.930769e+09   2020-04-09              20200409   \n",
       "...              ...           ...          ...                   ...   \n",
       "49944         2020.0  1.930660e+09   2020-03-17              20200317   \n",
       "49957         2020.0  1.930593e+09   2020-03-03              20200302   \n",
       "49958         2020.0  1.930705e+09   2020-03-27              20200326   \n",
       "49971         2020.0  1.930872e+09   2020-05-07              20200506   \n",
       "49975         2020.0  1.930760e+09   2020-04-09              20200407   \n",
       "\n",
       "       document_create_date.1  due_in_date invoice_currency document type  \\\n",
       "5                    20200330   20200414.0              USD            RV   \n",
       "6                    20200407   20200417.0              CAD            RV   \n",
       "10                   20200407   20200422.0              USD            RV   \n",
       "15                   20200427   20200512.0              USD            RV   \n",
       "16                   20200409   20200424.0              USD            RV   \n",
       "...                       ...          ...              ...           ...   \n",
       "49944                20200317   20200401.0              USD            RV   \n",
       "49957                20200303   20200318.0              USD            RV   \n",
       "49958                20200327   20200411.0              USD            RV   \n",
       "49971                20200507   20200522.0              USD            RV   \n",
       "49975                20200409   20200424.0              USD            RV   \n",
       "\n",
       "       posting_id  area_business  total_open_amount  baseline_create_date  \\\n",
       "5             1.0            NaN           12898.09            20200330.0   \n",
       "6             1.0            NaN            2799.23            20200407.0   \n",
       "10            1.0            NaN           56972.23            20200407.0   \n",
       "15            1.0            NaN            8105.17            20200427.0   \n",
       "16            1.0            NaN           34696.11            20200409.0   \n",
       "...           ...            ...                ...                   ...   \n",
       "49944         1.0            NaN           42958.34            20200317.0   \n",
       "49957         1.0            NaN           26545.42            20200303.0   \n",
       "49958         1.0            NaN            2050.47            20200327.0   \n",
       "49971         1.0            NaN           41159.01            20200507.0   \n",
       "49975         1.0            NaN           70220.92            20200409.0   \n",
       "\n",
       "      cust_payment_terms    invoice_id  isOpen  \n",
       "5                   NAH4  1.930716e+09       1  \n",
       "6                   CA10  2.960627e+09       1  \n",
       "10                  NAA8  1.930752e+09       1  \n",
       "15                  NAH4  1.930829e+09       1  \n",
       "16                  NAA8  1.930769e+09       1  \n",
       "...                  ...           ...     ...  \n",
       "49944               NAC6  1.930660e+09       1  \n",
       "49957               NAH4  1.930593e+09       1  \n",
       "49958               NAC6  1.930705e+09       1  \n",
       "49971               NAA8  1.930872e+09       1  \n",
       "49975               NAA8  1.930760e+09       1  \n",
       "\n",
       "[10000 rows x 19 columns]"
      ]
     },
     "execution_count": 92,
     "metadata": {},
     "output_type": "execute_result"
    }
   ],
   "source": [
    "Test_data"
   ]
  },
  {
   "cell_type": "code",
   "execution_count": 93,
   "id": "a05cd04b",
   "metadata": {},
   "outputs": [
    {
     "data": {
      "text/plain": [
       "business_code                 0\n",
       "cust_number                   0\n",
       "name_customer                 0\n",
       "clear_date                10000\n",
       "buisness_year                 0\n",
       "doc_id                        0\n",
       "posting_date                  0\n",
       "document_create_date          0\n",
       "document_create_date.1        0\n",
       "due_in_date                   0\n",
       "invoice_currency              0\n",
       "document type                 0\n",
       "posting_id                    0\n",
       "area_business             10000\n",
       "total_open_amount             0\n",
       "baseline_create_date          0\n",
       "cust_payment_terms            0\n",
       "invoice_id                    0\n",
       "isOpen                        0\n",
       "dtype: int64"
      ]
     },
     "execution_count": 93,
     "metadata": {},
     "output_type": "execute_result"
    }
   ],
   "source": [
    "#preprocessing on test_data\n",
    "Test_data.isna().sum()"
   ]
  },
  {
   "cell_type": "code",
   "execution_count": 94,
   "id": "079ee916",
   "metadata": {},
   "outputs": [],
   "source": [
    "#dropping null columns other than clear date\n",
    "Test_data.drop('area_business',axis=1,inplace=True)"
   ]
  },
  {
   "cell_type": "code",
   "execution_count": 95,
   "id": "6ac6c072",
   "metadata": {},
   "outputs": [
    {
     "data": {
      "text/plain": [
       "(10000, 17)"
      ]
     },
     "execution_count": 95,
     "metadata": {},
     "output_type": "execute_result"
    }
   ],
   "source": [
    "X_main_test = Test_data.drop(['clear_date'],axis=1)\n",
    "X_main_test\n",
    "\n",
    "X_main_test.shape"
   ]
  },
  {
   "cell_type": "code",
   "execution_count": 96,
   "id": "47962e45",
   "metadata": {},
   "outputs": [],
   "source": [
    "#As we have to predict clear_date so drop it from Test_data also\n",
    "Test_data.drop(['clear_date'], inplace =True,axis=1)"
   ]
  },
  {
   "cell_type": "code",
   "execution_count": 97,
   "id": "f6c89227",
   "metadata": {},
   "outputs": [
    {
     "data": {
      "text/plain": [
       "Index(['business_code', 'cust_number', 'name_customer', 'buisness_year',\n",
       "       'doc_id', 'posting_date', 'document_create_date',\n",
       "       'document_create_date.1', 'due_in_date', 'invoice_currency',\n",
       "       'document type', 'total_open_amount', 'baseline_create_date',\n",
       "       'cust_payment_terms', 'invoice_id'],\n",
       "      dtype='object')"
      ]
     },
     "execution_count": 97,
     "metadata": {},
     "output_type": "execute_result"
    }
   ],
   "source": [
    "X_main_test.drop(unique_cols,axis=1,inplace=True)\n",
    "X_main_test.columns"
   ]
  },
  {
   "cell_type": "code",
   "execution_count": 98,
   "id": "b089a59d",
   "metadata": {},
   "outputs": [
    {
     "data": {
      "text/html": [
       "<div>\n",
       "<style scoped>\n",
       "    .dataframe tbody tr th:only-of-type {\n",
       "        vertical-align: middle;\n",
       "    }\n",
       "\n",
       "    .dataframe tbody tr th {\n",
       "        vertical-align: top;\n",
       "    }\n",
       "\n",
       "    .dataframe thead th {\n",
       "        text-align: right;\n",
       "    }\n",
       "</style>\n",
       "<table border=\"1\" class=\"dataframe\">\n",
       "  <thead>\n",
       "    <tr style=\"text-align: right;\">\n",
       "      <th></th>\n",
       "      <th>business_code</th>\n",
       "      <th>cust_number</th>\n",
       "      <th>name_customer</th>\n",
       "      <th>buisness_year</th>\n",
       "      <th>doc_id</th>\n",
       "      <th>posting_date</th>\n",
       "      <th>document_create_date</th>\n",
       "      <th>document_create_date.1</th>\n",
       "      <th>due_in_date</th>\n",
       "      <th>invoice_currency</th>\n",
       "      <th>document type</th>\n",
       "      <th>total_open_amount</th>\n",
       "      <th>baseline_create_date</th>\n",
       "      <th>cust_payment_terms</th>\n",
       "      <th>invoice_id</th>\n",
       "    </tr>\n",
       "  </thead>\n",
       "  <tbody>\n",
       "    <tr>\n",
       "      <th>5</th>\n",
       "      <td>U001</td>\n",
       "      <td>0200769623</td>\n",
       "      <td>WAL-MAR us</td>\n",
       "      <td>2020.0</td>\n",
       "      <td>1.930716e+09</td>\n",
       "      <td>2020-03-30</td>\n",
       "      <td>20200328</td>\n",
       "      <td>20200330</td>\n",
       "      <td>20200414.0</td>\n",
       "      <td>USD</td>\n",
       "      <td>RV</td>\n",
       "      <td>12898.09</td>\n",
       "      <td>20200330.0</td>\n",
       "      <td>NAH4</td>\n",
       "      <td>1.930716e+09</td>\n",
       "    </tr>\n",
       "    <tr>\n",
       "      <th>6</th>\n",
       "      <td>CA02</td>\n",
       "      <td>0140106408</td>\n",
       "      <td>WAL-M</td>\n",
       "      <td>2020.0</td>\n",
       "      <td>2.960627e+09</td>\n",
       "      <td>2020-04-07</td>\n",
       "      <td>20200407</td>\n",
       "      <td>20200407</td>\n",
       "      <td>20200417.0</td>\n",
       "      <td>CAD</td>\n",
       "      <td>RV</td>\n",
       "      <td>2799.23</td>\n",
       "      <td>20200407.0</td>\n",
       "      <td>CA10</td>\n",
       "      <td>2.960627e+09</td>\n",
       "    </tr>\n",
       "    <tr>\n",
       "      <th>10</th>\n",
       "      <td>U001</td>\n",
       "      <td>0200743996</td>\n",
       "      <td>STATER  associates</td>\n",
       "      <td>2020.0</td>\n",
       "      <td>1.930752e+09</td>\n",
       "      <td>2020-04-07</td>\n",
       "      <td>20200405</td>\n",
       "      <td>20200407</td>\n",
       "      <td>20200422.0</td>\n",
       "      <td>USD</td>\n",
       "      <td>RV</td>\n",
       "      <td>56972.23</td>\n",
       "      <td>20200407.0</td>\n",
       "      <td>NAA8</td>\n",
       "      <td>1.930752e+09</td>\n",
       "    </tr>\n",
       "    <tr>\n",
       "      <th>15</th>\n",
       "      <td>U001</td>\n",
       "      <td>0200769623</td>\n",
       "      <td>WAL-MAR corporation</td>\n",
       "      <td>2020.0</td>\n",
       "      <td>1.930829e+09</td>\n",
       "      <td>2020-04-27</td>\n",
       "      <td>20200426</td>\n",
       "      <td>20200427</td>\n",
       "      <td>20200512.0</td>\n",
       "      <td>USD</td>\n",
       "      <td>RV</td>\n",
       "      <td>8105.17</td>\n",
       "      <td>20200427.0</td>\n",
       "      <td>NAH4</td>\n",
       "      <td>1.930829e+09</td>\n",
       "    </tr>\n",
       "    <tr>\n",
       "      <th>16</th>\n",
       "      <td>U001</td>\n",
       "      <td>0200707822</td>\n",
       "      <td>PUBLI in</td>\n",
       "      <td>2020.0</td>\n",
       "      <td>1.930769e+09</td>\n",
       "      <td>2020-04-09</td>\n",
       "      <td>20200409</td>\n",
       "      <td>20200409</td>\n",
       "      <td>20200424.0</td>\n",
       "      <td>USD</td>\n",
       "      <td>RV</td>\n",
       "      <td>34696.11</td>\n",
       "      <td>20200409.0</td>\n",
       "      <td>NAA8</td>\n",
       "      <td>1.930769e+09</td>\n",
       "    </tr>\n",
       "    <tr>\n",
       "      <th>...</th>\n",
       "      <td>...</td>\n",
       "      <td>...</td>\n",
       "      <td>...</td>\n",
       "      <td>...</td>\n",
       "      <td>...</td>\n",
       "      <td>...</td>\n",
       "      <td>...</td>\n",
       "      <td>...</td>\n",
       "      <td>...</td>\n",
       "      <td>...</td>\n",
       "      <td>...</td>\n",
       "      <td>...</td>\n",
       "      <td>...</td>\n",
       "      <td>...</td>\n",
       "      <td>...</td>\n",
       "    </tr>\n",
       "    <tr>\n",
       "      <th>49944</th>\n",
       "      <td>U001</td>\n",
       "      <td>0200790107</td>\n",
       "      <td>ROU in</td>\n",
       "      <td>2020.0</td>\n",
       "      <td>1.930660e+09</td>\n",
       "      <td>2020-03-17</td>\n",
       "      <td>20200317</td>\n",
       "      <td>20200317</td>\n",
       "      <td>20200401.0</td>\n",
       "      <td>USD</td>\n",
       "      <td>RV</td>\n",
       "      <td>42958.34</td>\n",
       "      <td>20200317.0</td>\n",
       "      <td>NAC6</td>\n",
       "      <td>1.930660e+09</td>\n",
       "    </tr>\n",
       "    <tr>\n",
       "      <th>49957</th>\n",
       "      <td>U001</td>\n",
       "      <td>0200769623</td>\n",
       "      <td>WAL-MAR co</td>\n",
       "      <td>2020.0</td>\n",
       "      <td>1.930593e+09</td>\n",
       "      <td>2020-03-03</td>\n",
       "      <td>20200302</td>\n",
       "      <td>20200303</td>\n",
       "      <td>20200318.0</td>\n",
       "      <td>USD</td>\n",
       "      <td>RV</td>\n",
       "      <td>26545.42</td>\n",
       "      <td>20200303.0</td>\n",
       "      <td>NAH4</td>\n",
       "      <td>1.930593e+09</td>\n",
       "    </tr>\n",
       "    <tr>\n",
       "      <th>49958</th>\n",
       "      <td>U001</td>\n",
       "      <td>0200435191</td>\n",
       "      <td>C&amp; co</td>\n",
       "      <td>2020.0</td>\n",
       "      <td>1.930705e+09</td>\n",
       "      <td>2020-03-27</td>\n",
       "      <td>20200326</td>\n",
       "      <td>20200327</td>\n",
       "      <td>20200411.0</td>\n",
       "      <td>USD</td>\n",
       "      <td>RV</td>\n",
       "      <td>2050.47</td>\n",
       "      <td>20200327.0</td>\n",
       "      <td>NAC6</td>\n",
       "      <td>1.930705e+09</td>\n",
       "    </tr>\n",
       "    <tr>\n",
       "      <th>49971</th>\n",
       "      <td>U001</td>\n",
       "      <td>0200697207</td>\n",
       "      <td>WA llc</td>\n",
       "      <td>2020.0</td>\n",
       "      <td>1.930872e+09</td>\n",
       "      <td>2020-05-07</td>\n",
       "      <td>20200506</td>\n",
       "      <td>20200507</td>\n",
       "      <td>20200522.0</td>\n",
       "      <td>USD</td>\n",
       "      <td>RV</td>\n",
       "      <td>41159.01</td>\n",
       "      <td>20200507.0</td>\n",
       "      <td>NAA8</td>\n",
       "      <td>1.930872e+09</td>\n",
       "    </tr>\n",
       "    <tr>\n",
       "      <th>49975</th>\n",
       "      <td>U001</td>\n",
       "      <td>0200797984</td>\n",
       "      <td>PIGGLY</td>\n",
       "      <td>2020.0</td>\n",
       "      <td>1.930760e+09</td>\n",
       "      <td>2020-04-09</td>\n",
       "      <td>20200407</td>\n",
       "      <td>20200409</td>\n",
       "      <td>20200424.0</td>\n",
       "      <td>USD</td>\n",
       "      <td>RV</td>\n",
       "      <td>70220.92</td>\n",
       "      <td>20200409.0</td>\n",
       "      <td>NAA8</td>\n",
       "      <td>1.930760e+09</td>\n",
       "    </tr>\n",
       "  </tbody>\n",
       "</table>\n",
       "<p>9690 rows × 15 columns</p>\n",
       "</div>"
      ],
      "text/plain": [
       "      business_code cust_number        name_customer  buisness_year  \\\n",
       "5              U001  0200769623           WAL-MAR us         2020.0   \n",
       "6              CA02  0140106408               WAL-M          2020.0   \n",
       "10             U001  0200743996   STATER  associates         2020.0   \n",
       "15             U001  0200769623  WAL-MAR corporation         2020.0   \n",
       "16             U001  0200707822             PUBLI in         2020.0   \n",
       "...             ...         ...                  ...            ...   \n",
       "49944          U001  0200790107               ROU in         2020.0   \n",
       "49957          U001  0200769623           WAL-MAR co         2020.0   \n",
       "49958          U001  0200435191                C& co         2020.0   \n",
       "49971          U001  0200697207               WA llc         2020.0   \n",
       "49975          U001  0200797984              PIGGLY          2020.0   \n",
       "\n",
       "             doc_id posting_date  document_create_date  \\\n",
       "5      1.930716e+09   2020-03-30              20200328   \n",
       "6      2.960627e+09   2020-04-07              20200407   \n",
       "10     1.930752e+09   2020-04-07              20200405   \n",
       "15     1.930829e+09   2020-04-27              20200426   \n",
       "16     1.930769e+09   2020-04-09              20200409   \n",
       "...             ...          ...                   ...   \n",
       "49944  1.930660e+09   2020-03-17              20200317   \n",
       "49957  1.930593e+09   2020-03-03              20200302   \n",
       "49958  1.930705e+09   2020-03-27              20200326   \n",
       "49971  1.930872e+09   2020-05-07              20200506   \n",
       "49975  1.930760e+09   2020-04-09              20200407   \n",
       "\n",
       "       document_create_date.1  due_in_date invoice_currency document type  \\\n",
       "5                    20200330   20200414.0              USD            RV   \n",
       "6                    20200407   20200417.0              CAD            RV   \n",
       "10                   20200407   20200422.0              USD            RV   \n",
       "15                   20200427   20200512.0              USD            RV   \n",
       "16                   20200409   20200424.0              USD            RV   \n",
       "...                       ...          ...              ...           ...   \n",
       "49944                20200317   20200401.0              USD            RV   \n",
       "49957                20200303   20200318.0              USD            RV   \n",
       "49958                20200327   20200411.0              USD            RV   \n",
       "49971                20200507   20200522.0              USD            RV   \n",
       "49975                20200409   20200424.0              USD            RV   \n",
       "\n",
       "       total_open_amount  baseline_create_date cust_payment_terms  \\\n",
       "5               12898.09            20200330.0               NAH4   \n",
       "6                2799.23            20200407.0               CA10   \n",
       "10              56972.23            20200407.0               NAA8   \n",
       "15               8105.17            20200427.0               NAH4   \n",
       "16              34696.11            20200409.0               NAA8   \n",
       "...                  ...                   ...                ...   \n",
       "49944           42958.34            20200317.0               NAC6   \n",
       "49957           26545.42            20200303.0               NAH4   \n",
       "49958            2050.47            20200327.0               NAC6   \n",
       "49971           41159.01            20200507.0               NAA8   \n",
       "49975           70220.92            20200409.0               NAA8   \n",
       "\n",
       "         invoice_id  \n",
       "5      1.930716e+09  \n",
       "6      2.960627e+09  \n",
       "10     1.930752e+09  \n",
       "15     1.930829e+09  \n",
       "16     1.930769e+09  \n",
       "...             ...  \n",
       "49944  1.930660e+09  \n",
       "49957  1.930593e+09  \n",
       "49958  1.930705e+09  \n",
       "49971  1.930872e+09  \n",
       "49975  1.930760e+09  \n",
       "\n",
       "[9690 rows x 15 columns]"
      ]
     },
     "execution_count": 98,
     "metadata": {},
     "output_type": "execute_result"
    }
   ],
   "source": [
    "X_main_test.drop_duplicates(keep='first')"
   ]
  },
  {
   "cell_type": "code",
   "execution_count": 100,
   "id": "cabc925a",
   "metadata": {},
   "outputs": [],
   "source": [
    "diff = set(X_main_test['business_code'])-set(cust_number_encoder.classes_)\n",
    "\n",
    "# adding them to the classess variable // \n",
    "for items in diff:\n",
    "    business_code_encoder.classes_ = np.append(business_code_encoder.classes_,items)\n",
    "X_main_test['business_code_enc'] = business_code_encoder.transform(X_main_test['business_code'])"
   ]
  },
  {
   "cell_type": "code",
   "execution_count": 101,
   "id": "2f1a7381",
   "metadata": {},
   "outputs": [],
   "source": [
    "diff = set(X_main_test['cust_number'])-set(cust_number_encoder.classes_)\n",
    "\n",
    "# adding them to the classess variable // \n",
    "for items in diff:\n",
    "    cust_number_encoder.classes_ = np.append(cust_number_encoder.classes_,items)\n",
    "X_main_test['cust_enco'] = cust_number_encoder.transform(X_main_test['cust_number'])"
   ]
  },
  {
   "cell_type": "code",
   "execution_count": 102,
   "id": "51739b72",
   "metadata": {},
   "outputs": [],
   "source": [
    "X_main_test['cust_enco'] = cust_number_encoder.transform(X_main_test['cust_number'])"
   ]
  },
  {
   "cell_type": "code",
   "execution_count": 103,
   "id": "dc0d0675",
   "metadata": {},
   "outputs": [],
   "source": [
    "#similarly for test set\n",
    "# finding what are the new catagories in the validation set for cust_payment_terms\n",
    "diff = set(X_main_test['cust_payment_terms'])-set(cust_terms_encoder.classes_)\n",
    "\n",
    "# adding them to the classess variable // \n",
    "for items in diff:\n",
    "    cust_terms_encoder.classes_ = np.append(cust_terms_encoder.classes_,items)\n",
    "\n",
    "X_main_test['cust_payment_terms_enco'] = cust_terms_encoder.transform(X_main_test['cust_payment_terms'])"
   ]
  },
  {
   "cell_type": "code",
   "execution_count": 104,
   "id": "8f84329d",
   "metadata": {},
   "outputs": [],
   "source": [
    "X_main_test['invoice_curr_enc'] = invoice_curr_encoder.transform(X_main_test['invoice_currency'])"
   ]
  },
  {
   "cell_type": "code",
   "execution_count": 105,
   "id": "3eb2a640",
   "metadata": {},
   "outputs": [],
   "source": [
    "X_main_test['due_in_date']= pd.to_datetime(X_main_test['due_in_date'],format='%Y%m%d') \n",
    "X_main_test['baseline_create_date']= pd.to_datetime(X_main_test['baseline_create_date'],format='%Y%m%d')\n",
    "X_main_test['document_create_date']= pd.to_datetime(X_main_test['document_create_date'],format='%Y%m%d') \n",
    "X_main_test['document_create_date.1']= pd.to_datetime(X_main_test['document_create_date.1'],format='%Y%m%d')\n",
    " #from object to datetime format changes with '-' in it\n",
    "X_main_test['posting_date']= pd.to_datetime(X_main_test['posting_date'],format='%Y-%m-%d')"
   ]
  },
  {
   "cell_type": "code",
   "execution_count": 106,
   "id": "32244acf",
   "metadata": {},
   "outputs": [],
   "source": [
    "\n",
    "X_main_test['day_of_invoice_crea'] = X_main_test['baseline_create_date'].dt.day\n",
    "X_main_test['month_of_invoice_crea'] = X_main_test['baseline_create_date'].dt.month\n",
    "\n",
    "\n",
    "\n",
    "X_main_test['day_of_due_in_date'] = X_main_test['due_in_date'].dt.day\n",
    "X_main_test['month_of_due_in_date'] = X_main_test['due_in_date'].dt.month\n",
    "\n",
    "X_main_test['day_of_posting_date'] = X_main_test['posting_date'].dt.day\n",
    "X_main_test['month_of_posting_date'] = X_main_test['posting_date'].dt.month\n",
    "\n",
    "X_main_test['day_of_doc_create_date'] = X_main_test['document_create_date.1'].dt.day\n",
    "X_main_test['month_of_doc_create_date'] = X_main_test['document_create_date.1'].dt.month"
   ]
  },
  {
   "cell_type": "code",
   "execution_count": 107,
   "id": "46a8f9d3",
   "metadata": {},
   "outputs": [],
   "source": [
    "X_main_test.drop(['business_code','cust_number','invoice_currency','cust_payment_terms','document_create_date.1','posting_date','due_in_date','document_create_date','baseline_create_date'],inplace =True ,axis=1)"
   ]
  },
  {
   "cell_type": "code",
   "execution_count": 108,
   "id": "16e13a1e",
   "metadata": {},
   "outputs": [
    {
     "name": "stdout",
     "output_type": "stream",
     "text": [
      "<class 'pandas.core.frame.DataFrame'>\n",
      "Int64Index: 10000 entries, 5 to 49975\n",
      "Data columns (total 18 columns):\n",
      " #   Column                    Non-Null Count  Dtype  \n",
      "---  ------                    --------------  -----  \n",
      " 0   name_customer             10000 non-null  object \n",
      " 1   buisness_year             10000 non-null  float64\n",
      " 2   doc_id                    10000 non-null  float64\n",
      " 3   document type             10000 non-null  object \n",
      " 4   total_open_amount         10000 non-null  float64\n",
      " 5   invoice_id                10000 non-null  float64\n",
      " 6   business_code_enc         10000 non-null  int32  \n",
      " 7   cust_enco                 10000 non-null  int32  \n",
      " 8   cust_payment_terms_enco   10000 non-null  int32  \n",
      " 9   invoice_curr_enc          10000 non-null  int32  \n",
      " 10  day_of_invoice_crea       10000 non-null  int64  \n",
      " 11  month_of_invoice_crea     10000 non-null  int64  \n",
      " 12  day_of_due_in_date        10000 non-null  int64  \n",
      " 13  month_of_due_in_date      10000 non-null  int64  \n",
      " 14  day_of_posting_date       10000 non-null  int64  \n",
      " 15  month_of_posting_date     10000 non-null  int64  \n",
      " 16  day_of_doc_create_date    10000 non-null  int64  \n",
      " 17  month_of_doc_create_date  10000 non-null  int64  \n",
      "dtypes: float64(4), int32(4), int64(8), object(2)\n",
      "memory usage: 1.3+ MB\n"
     ]
    }
   ],
   "source": [
    "X_main_test.info()"
   ]
  },
  {
   "cell_type": "code",
   "execution_count": 109,
   "id": "2b4fe477",
   "metadata": {},
   "outputs": [],
   "source": [
    "X_main_test.drop('name_customer',axis=1,inplace=True)\n",
    "X_main_test.drop('doc_id',axis=1,inplace=True)\n",
    "X_train"
   ]
  },
  {
   "cell_type": "code",
   "execution_count": 110,
   "id": "cd1e691f",
   "metadata": {},
   "outputs": [],
   "source": [
    "\n",
    "X_main_test.drop('invoice_id',axis=1,inplace=True)"
   ]
  },
  {
   "cell_type": "code",
   "execution_count": 115,
   "id": "1b6fc971",
   "metadata": {},
   "outputs": [],
   "source": [
    "\n",
    "X_main_test.drop(['document type','buisness_year'],axis=1,inplace=True)"
   ]
  },
  {
   "cell_type": "code",
   "execution_count": 123,
   "id": "541b94b4",
   "metadata": {},
   "outputs": [
    {
     "data": {
      "text/plain": [
       "Index(['total_open_amount', 'business_code_enc', 'cust_enco',\n",
       "       'cust_payment_terms_enco', 'invoice_curr_enc', 'day_of_invoice_crea',\n",
       "       'month_of_invoice_crea', 'day_of_due_in_date', 'month_of_due_in_date',\n",
       "       'day_of_posting_date', 'month_of_posting_date',\n",
       "       'day_of_doc_create_date', 'month_of_doc_create_date'],\n",
       "      dtype='object')"
      ]
     },
     "execution_count": 123,
     "metadata": {},
     "output_type": "execute_result"
    }
   ],
   "source": [
    "X_main_test.columns"
   ]
  },
  {
   "cell_type": "code",
   "execution_count": 125,
   "id": "1cf5c26e",
   "metadata": {},
   "outputs": [
    {
     "data": {
      "text/plain": [
       "Index(['total_open_amount', 'business_code_enc', 'cust_enco',\n",
       "       'cust_payment_terms_enco', 'invoice_curr_enc', 'day_of_invoice_crea',\n",
       "       'month_of_invoice_crea', 'day_of_due_in_date', 'month_of_due_in_date',\n",
       "       'day_of_posting_date', 'month_of_posting_date',\n",
       "       'day_of_doc_create_date', 'month_of_doc_create_date'],\n",
       "      dtype='object')"
      ]
     },
     "execution_count": 125,
     "metadata": {},
     "output_type": "execute_result"
    }
   ],
   "source": [
    "X_train.columns"
   ]
  },
  {
   "cell_type": "code",
   "execution_count": null,
   "id": "ccd7d590",
   "metadata": {},
   "outputs": [],
   "source": []
  }
 ],
 "metadata": {
  "kernelspec": {
   "display_name": "Python 3",
   "language": "python",
   "name": "python3"
  },
  "language_info": {
   "codemirror_mode": {
    "name": "ipython",
    "version": 3
   },
   "file_extension": ".py",
   "mimetype": "text/x-python",
   "name": "python",
   "nbconvert_exporter": "python",
   "pygments_lexer": "ipython3",
   "version": "3.9.5"
  }
 },
 "nbformat": 4,
 "nbformat_minor": 5
}
